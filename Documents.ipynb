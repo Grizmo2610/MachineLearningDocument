{
 "cells": [
  {
   "cell_type": "markdown",
   "metadata": {},
   "source": [
    "# <span style=\"color:Yellow\">**IMPORT NESSCARY LIBRARY**</span>\n",
    "\n",
    ">Các thư viện được sử dụng trong tài liệu sẽ được import trong phần này. \n",
    "Các thư viện trong đây bao gồm:\n",
    "+ Các thư viện hệ thống được dùng trong việc hỗ trợ đọc dữ liệu\n",
    "+ Các thư viện Toán học,trực quan hóa\n",
    "+ Các thư viện hỗ trợ\n",
    "+ Các bộ dữ liệu có sẵn\n",
    "+ Các mô hình có sẵn"
   ]
  },
  {
   "cell_type": "code",
   "execution_count": 1,
   "metadata": {
    "ExecuteTime": {
     "end_time": "2024-07-27T19:15:38.045908Z",
     "start_time": "2024-07-27T19:15:31.356480Z"
    }
   },
   "outputs": [],
   "source": [
    "# System library\n",
    "import os\n",
    "import time\n",
    "import sys\n",
    "\n",
    "# Helper model\n",
    "import numpy as np\n",
    "from numpy import random\n",
    "import pandas as pd\n",
    "import matplotlib.pyplot as plt \n",
    "\n",
    "# scikit-learn helper model\n",
    "from sklearn.model_selection import train_test_split, GridSearchCV\n",
    "from sklearn.metrics import accuracy_score, precision_score, recall_score, f1_score, mean_squared_error, r2_score\n",
    "\n",
    "# scikit-learn data\n",
    "import sklearn.datasets\n",
    "\n",
    "# scikit-learn model\n",
    "## Linear models\n",
    "from sklearn.linear_model import LinearRegression, LogisticRegression\n",
    "\n",
    "## Naive Bayes models\n",
    "from sklearn.naive_bayes import GaussianNB, MultinomialNB, BernoulliNB\n",
    "\n",
    "## Cluster models\n",
    "from sklearn.cluster import KMeans\n",
    "from sklearn.mixture import GaussianMixture\n",
    "from sklearn.neighbors import KNeighborsClassifier\n",
    "\n",
    "## Tree models\n",
    "from sklearn.tree import DecisionTreeClassifier, DecisionTreeClassifier\n",
    "from sklearn.ensemble import RandomForestClassifier, RandomForestRegressor\n",
    "\n",
    "## Other models\n",
    "from sklearn.decomposition import PCA"
   ]
  },
  {
   "cell_type": "markdown",
   "metadata": {},
   "source": [
    "# <span style=\"color:Yellow\">**TỔNG QUAN NỘI DUNG KHÓA HỌC**</span>\n",
    "\n",
    "1. Giới thiệu về Machine Learning, các khái niệm và các hệ số đánh giá cho các mô hình phân loại. Các mô hình Naive Bayes\n",
    "2. Mô hình Logistic Regression (Hồi quy Logistic) và Softmax\n",
    "3. Mô hình Linear Regression (Hồi quy tuyến tính)\n",
    "4. Các mô hình Decision Tree (Cây quyết định) - Phân loại và hồi quy\n",
    "5. Các mô hình Random Forest (Rừng ngẫu nhiên) - Phân loại và hồi quy\n",
    "6. Giảm chiều dữ liệu với PCA\n",
    "7. Mô hình Phân cụm K-Means (K- Trung bình)\n",
    "8. Mô hình Phân cụm K nearest neighbors (K - gần nhất) - KNN\n",
    "9. Mô hình phân cụm Gaussian Mixture (Trộn Gaussian) - GMM"
   ]
  },
  {
   "cell_type": "markdown",
   "metadata": {},
   "source": [
    "X\n",
    "A B C\n",
    "\n",
    "P(A) = 1\n",
    "P(B) = P(C) = 0\n",
    "-> Hệ không hỗn loạn -> hệ ổn định\n",
    "\n",
    "P(A) = 0.5\n",
    "P(B) = 0.3\n",
    "P(C) = 0.2\n",
    "\n",
    "-> Hệ hỗn loạn"
   ]
  },
  {
   "cell_type": "markdown",
   "metadata": {},
   "source": [
    "## **MỘT SỐ KHÁI NIỆM TRONG HỌC MÁY**\n",
    "\n",
    "### **Học máy là gì?**\n",
    "\n",
    "Học máy là một lĩnh vực của trí tuệ nhân tạo (AI) tập trung vào việc phát triển các thuật toán và kỹ thuật để cho phép máy tính học hỏi từ dữ liệu và từ kinh nghiệm mà không cần phải được lập trình cụ thể. Điều này cho phép máy tính tự động cải thiện hiệu suất của mình từ thời gian thực hành và mà không cần phải được lập trình cụ thể.\n",
    "\n",
    "-> \"Dạy\" máy tính học thông qua các thuật toán. Các bước xây dựng một chương trình học máy bao gồm: Xử lý dữ liệu, huấn luyện, kiểm tra đánh giá và cuối cùng là ứng dụng. Các thuật toán phần lớn đều xuất phát từ việc học dạy học một người. Việc huấn luyện = việc học trên lớp. Việc kiểm tra mô hình tương đương với việc kiểm tra.\n",
    "\n",
    "### **Một số khái niệm phổ biến trong học máy và kí hiệu.**\n",
    "\n",
    "Trong Học máy có khá nhiều khái niệm, cũng như kí hiệu phổ biến. \n",
    "\n",
    "#### 1. Entropy\n",
    "- **Định nghĩa**: Trong học máy, entropy là một thước đo độ hỗn loạn hay mức độ không chắc chắn trong một tập dữ liệu. Nó được sử dụng để xác định sự phân bố xác suất của các biến ngẫu nhiên và là một yếu tố quan trọng trong thuật toán cây quyết định.\n",
    "- **Ví dụ**: Trong cây quyết định, entropy được sử dụng để chọn thuộc tính tốt nhất để phân chia dữ liệu tại mỗi nút.\n",
    "\n",
    "- **Công thức**: \n",
    "\n",
    "$H(X) = -\\sum_{i=1}^{n} p(x_i) \\log_2 p(x_i)$\n",
    "\n",
    "Trong đó:\n",
    "- $H(X)$ là entropy của biến ngẫu nhiên $X$.\n",
    "- $p(x_i)$ là xác suất xảy ra của giá trị $x_i$.\n",
    "- $\\log_2$ là logarithm cơ số 2.\n",
    "- $x_i$ là dữ liệu đầu ra (Nhãn) của dữ liệu\n",
    "\n",
    "#### 2. Dữ liệu đầu vào (Input Data)\n",
    "- **Định nghĩa**: Là các dữ liệu được sử dụng để huấn luyện mô hình học máy. Dữ liệu đầu vào bao gồm các đặc trưng hoặc biến mà từ đó mô hình học để dự đoán giá trị đầu ra.\n",
    "- **Ví dụ**: Các biến như diện tích nhà, số phòng ngủ để dự đoán giá nhà.\n",
    "\n",
    "#### 3. Nhãn (Labels)\n",
    "- **Định nghĩa**: Là giá trị đích hoặc kết quả mà mô hình học máy cần dự đoán. Trong học có giám sát, dữ liệu huấn luyện bao gồm cả dữ liệu đầu vào và nhãn.\n",
    "- **Ví dụ**: Giá nhà trong bài toán dự đoán giá nhà, loại thư (spam hoặc không spam) trong bài toán phân loại thư.\n",
    "\n",
    "#### 4. Ngoại lai/ nhiễu (Outliers/Noise)\n",
    "- **Định nghĩa**: Là các điểm dữ liệu khác biệt lớn so với các điểm dữ liệu khác trong tập dữ liệu, có thể làm sai lệch kết quả mô hình học máy.\n",
    "- **Ví dụ**: Một ngôi nhà có giá bán cực kỳ cao hoặc thấp so với các ngôi nhà khác trong cùng khu vực.\n",
    "\n",
    "![image.png](image/Outlier.png)\n",
    "\n",
    "#### 5. Overfit\n",
    "- **Định nghĩa**: Là hiện tượng mô hình học quá kỹ các chi tiết và nhiễu của dữ liệu huấn luyện, dẫn đến hiệu suất kém trên dữ liệu kiểm tra.\n",
    "- **Ví dụ**: Một mô hình có độ chính xác cao trên dữ liệu huấn luyện nhưng kém trên dữ liệu kiểm tra.\n",
    "\n",
    "#### 6. Underfit\n",
    "- **Định nghĩa**: Là hiện tượng mô hình không học đủ các đặc trưng từ dữ liệu huấn luyện, dẫn đến hiệu suất kém trên cả dữ liệu huấn luyện và kiểm tra.\n",
    "- **Ví dụ**: Một mô hình đơn giản không thể nắm bắt được xu hướng của dữ liệu.\n",
    "\n",
    "#### 7. Good fit\n",
    "- **Định nghĩa**: Là khi mô hình có thể học được các đặc trưng quan trọng từ dữ liệu huấn luyện và hoạt động tốt trên dữ liệu kiểm tra.\n",
    "- **Ví dụ**: Một mô hình có độ chính xác cao và ổn định trên cả dữ liệu huấn luyện và kiểm tra.\n",
    "\n",
    "![image.png](image/Fit.png)\n",
    "\n",
    "#### 8. Phân loại (Classification)\n",
    "- **Định nghĩa**: Là bài toán học máy giám sát nhằm phân loại các điểm dữ liệu vào các nhóm hoặc lớp.\n",
    "- **Ví dụ**: Nhận diện thư rác, phân loại ảnh.\n",
    "\n",
    "#### 9. Phân lớp (Clustering)\n",
    "- **Định nghĩa**: Là bài toán học máy không giám sát nhằm phân chia các điểm dữ liệu thành các cụm dựa trên tính tương tự.\n",
    "- **Ví dụ**: Phân cụm khách hàng theo hành vi mua sắm.\n",
    "\n",
    "#### 10. Hồi quy (Regression)\n",
    "- **Định nghĩa**: Là bài toán học máy giám sát dùng để dự đoán giá trị đầu ra liên tục dựa trên một hoặc nhiều biến đầu vào.\n",
    "- **Ví dụ**: Dự đoán giá nhà, dự báo doanh thu.\n",
    "\n",
    "#### 11. Cross-Validation\n",
    "- **Định nghĩa**: Là kỹ thuật đánh giá hiệu suất của mô hình bằng cách chia dữ liệu thành nhiều phần và kiểm tra mô hình trên các phần này để đảm bảo tính tổng quát.\n",
    "- **Ví dụ**: K-fold cross-validation.\n",
    "\n",
    "#### 12. Trường thông tin (Field)\n",
    "- **Định nghĩa**: Là một cột trong bảng dữ liệu, đại diện cho một đặc trưng hoặc thuộc tính của dữ liệu.\n",
    "- **Ví dụ**: Cột \"diện tích\" hoặc \"số phòng ngủ\" trong bảng dữ liệu về nhà.\n",
    "\n",
    "#### 13. Bản ghi (Record)\n",
    "- **Định nghĩa**: Là một hàng trong bảng dữ liệu, đại diện cho một đối tượng hoặc một mẫu dữ liệu cụ thể.\n",
    "- **Ví dụ**: Một hàng chứa thông tin về một ngôi nhà cụ thể, bao gồm diện tích, số phòng ngủ, và giá bán.\n",
    "\n",
    "### **Một vài công thức toán học**\n",
    "\n",
    "* Nghịch đảo ma trận\n",
    "\n",
    "* Nhân ma trận\n",
    "\n",
    "* Chuyển vị ma trận\n",
    "\n",
    "* Giá trị riêng và vecto riêng của ma trận\n",
    "\n",
    "* Xác suất có điều kiện\n",
    "\n",
    "* Định lý Bayes\n",
    "\n",
    "* Ma trận đối xứng\n",
    "\n",
    "* Ma trận xác định dương, nửa xác định dương\n",
    "\n",
    "### **Phân loại các thuật toán học máy.**\n",
    "\n",
    "Các thuật toán học máy có thể được phân loại chủ yếu thành ba nhóm chính dựa trên cách chúng học từ dữ liệu:\n",
    "\n",
    "1. **Học giám sát (Supervised Learning)**:\n",
    "   - Thuật toán này yêu cầu dữ liệu huấn luyện có nhãn để học. Mục tiêu là xây dựng một mô hình có thể dự đoán đầu ra cho các dữ liệu mới dựa trên dữ liệu huấn luyện đã biết trước. Ví dụ: Hồi quy tuyến tính, Máy vector hỗ trợ (SVM), Mạng nơ-ron nhân tạo.\n",
    "\n",
    "2. **Học không giám sát (Unsupervised Learning)**:\n",
    "   - Thuật toán này không yêu cầu dữ liệu huấn luyện có nhãn. Mục tiêu là khám phá cấu trúc hoặc mô hình ẩn trong dữ liệu. Ví dụ: Phân cụm (Clustering), Phân tích thành phần chính (PCA), Mạng nơ-ron tự tổ chức (Self-organizing Maps).\n",
    "\n",
    "3. **Học bán giám sát và học tăng cường (Semi-supervised Learning and Reinforcement Learning)**:\n",
    "   - **Học bán giám sát**: Kết hợp cả dữ liệu có nhãn và không có nhãn để học.\n",
    "   - **Học tăng cường**: Máy học từ kinh nghiệm thông qua thử và sai, thường được áp dụng trong các bài toán đưa ra quyết định liên tục. Ví dụ: Q-learning, Policy Gradient.\n",
    "\n",
    "Mỗi nhóm thuật toán này có những ứng dụng và đặc điểm riêng, được áp dụng rộng rãi trong các lĩnh vực từ khoa học dữ liệu đến tự động hóa và robot."
   ]
  },
  {
   "cell_type": "markdown",
   "metadata": {},
   "source": [
    "## <span style=\"color:Yellow\">**MA TRẬN NHẦM LẪN**</span>\n",
    "\n",
    "$\n",
    "\\begin{array}{c|c}\n",
    " & \\text{Predicted Negative} & \\text{Predicted Positive} \\\\\n",
    "\\hline\n",
    "\\text{Actual Negative} & \\color{green}{TN} & \\color{red}{FP} \\\\\n",
    "\\text{Actual Positive} & \\color{red}{FN} & \\color{green}{TP} \\\\\n",
    "\\end{array}\n",
    "$\n",
    "\n",
    "- <span style=\"color:green\">**TN (True Negative)**</span>: Số lượng các trường hợp mà mô hình dự đoán là negative và thực sự là negative.\n",
    "- <span style=\"color:red\">**FP (False Positive)**</span>: Số lượng các trường hợp mà mô hình dự đoán là positive nhưng thực sự là negative.\n",
    "- <span style=\"color:red\">**FN (False Negative)**</span>: Số lượng các trường hợp mà mô hình dự đoán là negative nhưng thực sự là positive.\n",
    "- <span style=\"color:green\">**TP (True Positive)**</span>: Số lượng các trường hợp mà mô hình dự đoán là positive và thực sự là positive."
   ]
  },
  {
   "cell_type": "markdown",
   "metadata": {},
   "source": [
    "## <span style=\"color:Yellow\">**MỘT VÀI HỆ SỐ ĐÁNH GIÁ TRONG HỌC MÁY**</span>.\n",
    "\n",
    "1. <span style =\"color:Orange\">**Accuracy (Độ chính xác):**</span>\n",
    "   $\\frac{k}{n}$\n",
    "\n",
    "2. <span style =\"color:Orange\">**Precision (Độ chính xác dự đoán):**</span>\n",
    "   $\\frac{\\text{\\color{green}{TN}}}{\\text{\\color{green}{TN}} + \\text{\\color{red}{FP}}}$\n",
    "\n",
    "3. <span style =\"color:Orange\">**Recall (Độ nhạy):**</span>\n",
    "   $\\frac{\\text{\\color{green}{TN}}}{\\text{\\color{green}{TN}} + \\text{\\color{red}{FN}}}$\n",
    "\n",
    "4. <span style =\"color:Orange\">**F1 Score (Giá trị trung bình điều hòa):**</span>\n",
    "   $2 \\cdot \\frac{\\text{\\color{Orange}{Precision}} \\cdot \\text{\\color{Orange}{Recall}}}{\\text{\\color{Orange}{Precision}} + \\text{\\color{Orange}{Recall}}}$\n",
    "\n",
    "5. <span style =\"color:Orange\">**Mean Squared Error (MSE):**</span>\n",
    "   $\\frac{1}{n} \\sum_{i=1}^{n} (y_i - \\hat{y}_i)^2$\n",
    "\n",
    "6. <span style =\"color:Orange\">**R-squared (Coefficient of Determination):**</span>\n",
    "   $1 - \\frac{\\sum_{i=1}^{n} (y_i - \\hat{y}_i)^2}{\\sum_{i=1}^{n} (y_i - \\bar{y})^2}$\n"
   ]
  },
  {
   "cell_type": "markdown",
   "metadata": {},
   "source": [
    "## **VECTO ĐẶC TRƯNG**\n",
    "\n",
    "Vecto đặc trưng là một biểu diễn số học của một đối tượng trong không gian đặc trưng. Đối tượng này có thể là bất cứ thứ gì có thể được mô tả bằng các thuộc tính số học, ví dụ như một văn bản, một hình ảnh, hay một âm thanh. Trong machine learning và data mining, vecto đặc trưng thường được sử dụng để biểu diễn dữ liệu để máy tính có thể hiểu và xử lý. Các thuộc tính của đối tượng được biểu diễn bằng các chiều của vecto, mỗi chiều có thể là một thuộc tính riêng biệt hoặc một đặc trưng được trích xuất từ đối tượng đó.\n",
    "\n",
    "### **One-hot encoding và Word Embedding**\n",
    "\n",
    "**One-hot encoding**:\n",
    "- One-hot encoding là một phương pháp đơn giản để biểu diễn các từ trong từ điển.\n",
    "- Mỗi từ được biểu diễn bằng một vecto có chiều dài bằng số lượng từ trong từ điển.\n",
    "- Ví dụ: cho 3 chuỗi\n",
    "  - d1: `hanoi pho chaolong hanoi` - B\n",
    "  - d2: `hanoi buncha pho omai` - B\n",
    "  - d3: `saigon hutieu banhbo pho` - N\n",
    "\n",
    "Từ điển trong trường hợp này sẽ là: `[hanoi, pho, chaolong, buncha, omai, saigon, hutieu, banhbo]`\n",
    "\n",
    "Vecto đặc trưng sẽ là:\n",
    "- d1: `[1, 1, 1, 0, 0, 0, 0, 0]`\n",
    "- d2: `[1, 1, 0, 0, 1, 0, 0, 0]`\n",
    "- d3: `[0, 1, 0, 0, 0, 1, 1, 1]`\n",
    "\n",
    "> One-hot encoding đơn giản và dễ hiểu nhưng có thể rất thưa (sparse) với các từ điển lớn.\n",
    "\n",
    "\n",
    "**Word embedding**:\n",
    "- Word embedding là một kỹ thuật phức tạp hơn, mô tả từng từ bằng một vecto số thực có số chiều thấp hơn rất nhiều so với kích thước của từ điển.\n",
    "- Các vecto này chứa thông tin ngữ nghĩa và ngữ cảnh của từ, được học từ dữ liệu lớn.\n",
    "- Ví dụ: cho 3 chuỗi\n",
    "  - d1: `hanoi pho chaolong hanoi` - B\n",
    "  - d2: `hanoi buncha pho omai` - B\n",
    "  - d3: `saigon hutieu banhbo pho hutieu saigon` - N\n",
    "\n",
    "Từ điển trong trường hợp này sẽ là: `[hanoi, pho, chaolong, buncha, omai, saigon, hutieu, banhbo]`\n",
    "\n",
    "Vecto đặc trưng sẽ là:\n",
    "- d1: `[2, 1, 1, 0, 0, 0, 0, 0]`\n",
    "- d2: `[1, 1, 0, 0, 1, 0, 0, 0]`\n",
    "- d3: `[0, 1, 0, 0, 0, 2, 2, 1]`\n",
    "\n",
    "> Word embedding thường mang lại kết quả tốt hơn trong các tác vụ NLP như phân loại văn bản, dịch máy, v.v."
   ]
  },
  {
   "cell_type": "markdown",
   "metadata": {},
   "source": [
    "# **CÁC MÔ HÌNH NAIVEBAYES**\n",
    "\n",
    "Naive Bayes là một nhóm các mô hình phân loại xác suất, được xây dựng dựa trên định lý Bayes với giả định đơn giản rằng các đặc tính (features) của các đối tượng (instances) là độc lập với nhau. Mặc dù giả định này thường không chính xác trong thực tế, các mô hình Naive Bayes vẫn hoạt động hiệu quả trong nhiều bài toán phân loại khác nhau.\n",
    "\n",
    "> **Maximum likelihood** là phương pháp tối đa hóa xác suất để dữ liệu quan sát được là một mẫu từ một phân phối xác suất cụ thể, khi biết rằng mô hình có các tham số cần được ước lượng. Ý tưởng chính của học máy là tìm các giá trị của các tham số mô hình sao cho xác suất để dữ liệu quan sát được là lớn nhất."
   ]
  },
  {
   "cell_type": "markdown",
   "metadata": {},
   "source": [
    ">Điểm khác nhau giữa các mô hình Naive Bayes là **dữ liệu đầu vào**. Bernoulli là dữ liệu dạng nhị phân (0-1 hoặc tương tự) và Multinormial là dữ liệu rời rạc còn với Gaussian lại yêu cầu các dữ liệu liên tục (tuân theo phân bố chuẩn)."
   ]
  },
  {
   "cell_type": "markdown",
   "metadata": {},
   "source": [
    "\n",
    "## 1. Gaussian Naive Bayes\n",
    "Được sử dụng khi các đặc tính liên tục và tuân theo phân phối chuẩn (Gaussian distribution). Công thức xác suất có dạng:\n",
    "\n",
    "$P(x_i | y) = \\frac{1}{\\sqrt{2 \\pi \\sigma_y^2}} e^{\\left(-\\frac{(x_i - \\mu_y)^2}{2 \\sigma_y^2}\\right)}$\n",
    "\n",
    "Trong đó:\n",
    "- $x_i$ là giá trị của đặc tính thứ $i$.\n",
    "- $\\mu_y$ và $\\sigma_y$ lần lượt là trung bình và độ lệch chuẩn của đặc tính trong lớp $y$."
   ]
  },
  {
   "cell_type": "markdown",
   "metadata": {},
   "source": [
    "### **Huấn luyện**\n",
    "\n",
    "Để huấn luyện một mô hình Gaussian Naive Bayes, chúng ta thực hiện các bước sau:\n",
    "\n",
    "* Xử lý dữ liệu và đưa về các vector đặc trưng. Dữ liệu được chuẩn bị và biểu diễn dưới dạng các vector đặc trưng.\n",
    "\n",
    "* Tính xác suất để một dữ liệu thuộc lớp $y_i$. Tính các tham số Gaussian cho từng đặc trưng của mỗi lớp $y_i$, bao gồm giá trị trung bình và độ lệch chuẩn.\n",
    "\n",
    "* Lưu lại các tham số thành các vector hệ số $\\theta$. Mỗi lớp trong mô hình sẽ có một vector hệ số $\\theta$ tương ứng, chứa các giá trị trung bình và độ lệch chuẩn cho từng đặc trưng.\n",
    "\n",
    "### **Dự đoán**\n",
    "\n",
    "Sau khi đã có các vector hệ số, ta có thể dự đoán nhãn của dữ liệu mới bằng các bước sau:\n",
    "\n",
    "* Xử lý dữ liệu và đưa về các vector đặc trưng. Dữ liệu mới cần được chuẩn bị để có cùng định dạng với dữ liệu đã huấn luyện.\n",
    "\n",
    "* Với mỗi lớp $y_j$, tính xác suất dựa trên hàm mật độ xác suất của phân phối Gaussian cho từng đặc trưng $x_i$.\n",
    "\n",
    "* So sánh và dự đoán nhãn. Xác định lớp có xác suất cao nhất bằng cách tính arg$\\max_{y_j}{P(y_j | x)}$."
   ]
  },
  {
   "cell_type": "code",
   "execution_count": 2,
   "metadata": {
    "ExecuteTime": {
     "end_time": "2024-07-27T19:15:38.065390Z",
     "start_time": "2024-07-27T19:15:38.048925Z"
    }
   },
   "outputs": [],
   "source": [
    "class GaussianNaiveBayes:\n",
    "    def fit(self, X, y):\n",
    "        \"\"\"\n",
    "        Fit Gaussian Naive Bayes model to training data.\n",
    "\n",
    "        Parameters:\n",
    "        X : array-like of shape (n_samples, n_features)\n",
    "            Training data.\n",
    "        y : array-like of shape (n_samples,)\n",
    "            Target values.\n",
    "\n",
    "        Returns:\n",
    "        None\n",
    "        \"\"\"\n",
    "        # Initialize parameters\n",
    "        self.classes = np.unique(y)\n",
    "        self.mean = np.zeros((len(self.classes), X.shape[1]), dtype=np.float64)\n",
    "        self.var = np.zeros((len(self.classes), X.shape[1]), dtype=np.float64)\n",
    "        self.priors = np.zeros(len(self.classes), dtype=np.float64)\n",
    "        \n",
    "        # Calculate mean, variance, and class priors for each class\n",
    "        for idx, c in enumerate(self.classes):\n",
    "            X_c = X[y == c]\n",
    "            self.mean[idx, :] = X_c.mean(axis=0)\n",
    "            self.var[idx, :] = X_c.var(axis=0)\n",
    "            self.priors[idx] = X_c.shape[0] / X.shape[0]\n",
    "    \n",
    "    def _pdf(self, class_idx, x):\n",
    "        \"\"\"\n",
    "        Compute the probability density function of Gaussian distribution.\n",
    "\n",
    "        Parameters:\n",
    "        class_idx : int\n",
    "            Index of the class.\n",
    "        x : array-like of shape (n_features,)\n",
    "            Input data point.\n",
    "\n",
    "        Returns:\n",
    "        pdf : array-like of shape (n_features,)\n",
    "            Probability density function values.\n",
    "        \"\"\"\n",
    "        mean = self.mean[class_idx]\n",
    "        var = self.var[class_idx]\n",
    "        numerator = np.exp(- (x - mean)**2 / (2 * var))\n",
    "        denominator = np.sqrt(2 * np.pi * var)\n",
    "        return numerator / denominator\n",
    "    \n",
    "    def _predict(self, x):\n",
    "        \"\"\"\n",
    "        Predict the class label for a single sample.\n",
    "\n",
    "        Parameters:\n",
    "        x : array-like of shape (n_features,)\n",
    "            Input data point.\n",
    "\n",
    "        Returns:\n",
    "        predicted_class : int\n",
    "            Predicted class label.\n",
    "        \"\"\"\n",
    "        posteriors = []\n",
    "        for idx, c in enumerate(self.classes):\n",
    "            prior = np.log(self.priors[idx])\n",
    "            posterior = np.sum(np.log(self._pdf(idx, x)))\n",
    "            posterior = prior + posterior\n",
    "            posteriors.append(posterior)\n",
    "        return self.classes[np.argmax(posteriors)]\n",
    "    \n",
    "    def predict(self, X):\n",
    "        \"\"\"\n",
    "        Predict the class labels for multiple samples.\n",
    "\n",
    "        Parameters:\n",
    "        X : array-like of shape (n_samples, n_features)\n",
    "            Input data.\n",
    "\n",
    "        Returns:\n",
    "        predicted_classes : array-like of shape (n_samples,)\n",
    "            Predicted class labels.\n",
    "        \"\"\"\n",
    "        return np.array([self._predict(x) for x in X])"
   ]
  },
  {
   "cell_type": "markdown",
   "metadata": {},
   "source": [
    "## 2. Multinomial Naive Bayes\n",
    "Phù hợp với các đặc tính rời rạc, chẳng hạn như số lần xuất hiện của từ trong một văn bản. Được sử dụng phổ biến trong phân loại văn bản và phân tích dữ liệu văn bản. Xác suất của một đặc tính $x_i$ cho lớp $y$ được tính bằng:\n",
    "\n",
    "$P(x_i | y) = \\frac{\\text{count}(x_i \\text{ trong lớp } y) + 1}{\\sum_{x_j} (\\text{count}(x_j \\text{ trong lớp } y) + 1)}$"
   ]
  },
  {
   "cell_type": "markdown",
   "metadata": {},
   "source": [
    "### **Huấn luyện**\n",
    "\n",
    "Ta thực hiện các bước sau để huấn luyện một mô hình Multinomial Naive Bayes\n",
    "\n",
    "* Xử lý dữ liệu và đưa về các vecto đặc trưng\n",
    "\n",
    "* Tính xác suất để một dữ liệu thuộc lớp $y_i$. Hay nói cách khác là tìm số lượng các bản ghi $x_i$ được gán nhãn là $y_i$. Ta lưu lại các hệ số này là $\\omega$\n",
    "\n",
    "* Tính xác suất cho từng đặc trưng theo các lớp. Gom dữ liệu thành các lớp cùng nhãn, sau đó tính tổng số lần xuất hiện đặc trưng / tổng số đặc trưng. Hay nói cách khác, ta sẽ đi tính $P(x_i|y)$ - Xác suất để bản ghi có đặc trưng $x_i$.\n",
    "\n",
    "* Lưu lại các hệ số thành các vecto hệ số $\\theta$ hoàn chỉnh tương ứng với mỗi 1 vecto là hệ số của một lớp. Và kết thúc bước huấn luyện\n",
    "\n",
    "### **Dự đoán**\n",
    "\n",
    "Sau khi đã có vecto hệ số. Ta sẽ tiến hành kiểm tra xem một dữ liệu mới sẽ trả về kết quả như nào.\n",
    "\n",
    "* Xử lý dữ liệu và đưa về các vecto đặc trưng. Lưu ý cần xử lý dữ liệu giống với dữ liệu được training và đặc biệt chú ý về số đặc trưng có trong từng bản ghi phải đầy đủ.\n",
    "\n",
    "* Ta lấy số lượng đặc trưng $x_i$ của bản ghi tạm gọi là $k_i$.\n",
    "\n",
    "* Ta sẽ tính tích từng vecto với từng vecto hệ số $\\prod_{i = 0}^{n}{\\theta_{i,j}^{k_i}} = \\prod_{i = 0}^{n}{p(x|y_j)}$\n",
    "\n",
    "* Sau đấy sẽ thu được $m$ xác suất $p_i$ ($0\\leq p_i \\leq 1$) ta tiến hành nhân các xác suất $p_i$ với xác suất của từng lớp $\\omega_i$. $P(y_i|x)=p_i * p(y_j)$ Khi này ta so sánh xem, lớp nào có xác suất cao hơn, thì ta kết luận là dữ liệu $x$ có nhãn tương ứng. $\\argmax_{y}{P(y_i|x)}$"
   ]
  },
  {
   "cell_type": "code",
   "execution_count": 3,
   "metadata": {
    "ExecuteTime": {
     "end_time": "2024-07-27T19:15:38.082359Z",
     "start_time": "2024-07-27T19:15:38.067338Z"
    }
   },
   "outputs": [],
   "source": [
    "class MultinomialNaiveBayes:\n",
    "    def fit(self, X: np.ndarray, y: np.ndarray):\n",
    "        \"\"\"\n",
    "        Train the Naive Bayes model using the training data.\n",
    "        \n",
    "        Parameters:\n",
    "        X : numpy array, shape (n_samples, n_features)\n",
    "            Feature matrix of the training data.\n",
    "        y : numpy array, shape (n_samples,)\n",
    "            Array containing labels of the training data.\n",
    "\n",
    "        Returns:\n",
    "        None\n",
    "        \"\"\"\n",
    "        # Initialize variables to store class information and feature counts\n",
    "        self.classes = np.unique(y)  # Unique classes in the target variable y\n",
    "        self.class_count = np.zeros(len(self.classes), dtype=np.float64)  # Count of each class\n",
    "        \n",
    "        self.feature_count = np.zeros((len(self.classes), X.shape[1]), dtype=np.float64)  # Count of each feature for each class\n",
    "        self.feature_prob = np.zeros((len(self.classes), X.shape[1]), dtype=np.float64)  # Probability of each feature for each class\n",
    "        \n",
    "        # Calculate class counts and feature counts        \n",
    "        for idx, c in enumerate(self.classes):\n",
    "            X_c = X[y == c]  # Subset of X where y == c (instances of class c)\n",
    "            self.class_count[idx] = X_c.shape[0]  # Number of instances of class c\n",
    "            self.feature_count[idx, :] = X_c.sum(axis=0)  # Sum of all features for instances of class c\n",
    "        \n",
    "        # Calculate feature probabilities using Laplace smoothing\n",
    "        self.feature_prob = (self.feature_count + 1) / (self.class_count[:, None] + X.shape[1])\n",
    "        \n",
    "        # Calculate class probabilities    \n",
    "        self.class_prob = self.class_count / X.shape[0]  # Prior probability of each class\n",
    "        return self\n",
    "    \n",
    "    def _predict(self, x):\n",
    "        \"\"\"\n",
    "        Predict the class of a feature sample x.\n",
    "\n",
    "        Parameters:\n",
    "        x : numpy array, shape (n_features,)\n",
    "            Feature sample to predict the class.\n",
    "\n",
    "        Returns:\n",
    "        predicted_class : object\n",
    "            Predicted class for feature sample x.\n",
    "        \"\"\"\n",
    "        posteriors = []\n",
    "        for idx, c in enumerate(self.classes):\n",
    "            prior = np.log(self.class_prob[idx])  # Logarithm of the prior probability of class c\n",
    "            likelihood = np.sum(x * np.log(self.feature_prob[idx]))  # Log-likelihood of instance x belonging to class c\n",
    "            posterior = prior + likelihood  # Posterior probability of class c given instance x\n",
    "            posteriors.append(posterior)\n",
    "        predicted_class = self.classes[np.argmax(posteriors)]  # Predicted class is the one with the highest posterior probability\n",
    "        return predicted_class\n",
    "    \n",
    "    def predict(self, X: np.ndarray):\n",
    "        \"\"\"\n",
    "        Predict the class of feature samples in matrix X.\n",
    "\n",
    "        Parameters:\n",
    "        X : numpy array, shape (n_samples, n_features)\n",
    "            Feature matrix of samples to predict the class.\n",
    "\n",
    "        Returns:\n",
    "        predicted_classes : numpy array, shape (n_samples,)\n",
    "            Array containing predicted classes for each feature sample in X.\n",
    "        \"\"\"\n",
    "        predicted_classes = np.array([self._predict(x) for x in X])  # Predict class for each feature sample in X\n",
    "        return predicted_classes\n"
   ]
  },
  {
   "cell_type": "markdown",
   "metadata": {},
   "source": [
    "\n",
    "## 3. Bernoulli Naive Bayes\n",
    "Thích hợp với các đặc tính nhị phân (có hoặc không có). Cũng thường được sử dụng trong phân loại văn bản, nhưng với dữ liệu biểu diễn dưới dạng \"có\" hoặc \"không\" (ví dụ: từ xuất hiện hoặc không xuất hiện trong tài liệu). Công thức xác suất:\n",
    "\n",
    "$P(x_i | y) = P(x_i = 1 | y)^{x_i} \\cdot P(x_i = 0 | y)^{1 - x_i}$\n",
    "\n",
    "Về cách tính toán xác suất và phân loại tương tự như 2 phần trên nên sẽ không nhắc lại."
   ]
  },
  {
   "cell_type": "code",
   "execution_count": 4,
   "metadata": {
    "ExecuteTime": {
     "end_time": "2024-07-27T19:15:38.097136Z",
     "start_time": "2024-07-27T19:15:38.083843Z"
    }
   },
   "outputs": [],
   "source": [
    "class BernoulliNaiveBayes:\n",
    "    def fit(self, X, y):\n",
    "        \"\"\"\n",
    "        Fit Bernoulli Naive Bayes model to training data.\n",
    "\n",
    "        Parameters:\n",
    "        X : array-like of shape (n_samples, n_features)\n",
    "            Training data.\n",
    "        y : array-like of shape (n_samples,)\n",
    "            Target values.\n",
    "\n",
    "        Returns:\n",
    "        None\n",
    "        \"\"\"\n",
    "        # Initialize parameters\n",
    "        self.classes = np.unique(y)\n",
    "        self.class_count = np.zeros(len(self.classes), dtype=np.float64)\n",
    "        self.feature_prob = np.zeros((len(self.classes), X.shape[1]), dtype=np.float64)\n",
    "        \n",
    "        # Calculate class counts and feature probabilities for each class\n",
    "        for idx, c in enumerate(self.classes):\n",
    "            X_c = X[y == c]\n",
    "            self.class_count[idx] = X_c.shape[0]\n",
    "            self.feature_prob[idx, :] = (X_c.sum(axis=0) + 1) / (X_c.shape[0] + 2)\n",
    "        \n",
    "        # Calculate class probabilities\n",
    "        self.class_prob = self.class_count / X.shape[0]\n",
    "    \n",
    "    def _predict(self, x):\n",
    "        \"\"\"\n",
    "        Predict the class label for a single sample.\n",
    "\n",
    "        Parameters:\n",
    "        x : array-like of shape (n_features,)\n",
    "            Input data point.\n",
    "\n",
    "        Returns:\n",
    "        predicted_class : int\n",
    "            Predicted class label.\n",
    "        \"\"\"\n",
    "        posteriors = []\n",
    "        for idx, c in enumerate(self.classes):\n",
    "            prior = np.log(self.class_prob[idx])\n",
    "            likelihood = np.sum(x * np.log(self.feature_prob[idx]) + (1 - x) * np.log(1 - self.feature_prob[idx]))\n",
    "            posteriors.append(prior + likelihood)\n",
    "        return self.classes[np.argmax(posteriors)]\n",
    "    \n",
    "    def predict(self, X):\n",
    "        \"\"\"\n",
    "        Predict the class labels for multiple samples.\n",
    "\n",
    "        Parameters:\n",
    "        X : array-like of shape (n_samples, n_features)\n",
    "            Input data.\n",
    "\n",
    "        Returns:\n",
    "        predicted_classes : array-like of shape (n_samples,)\n",
    "            Predicted class labels.\n",
    "        \"\"\"\n",
    "        return np.array([self._predict(x) for x in X])"
   ]
  },
  {
   "cell_type": "markdown",
   "metadata": {},
   "source": [
    "# **LINEAR MODELS**"
   ]
  },
  {
   "cell_type": "markdown",
   "metadata": {},
   "source": [
    "## Linear Regression Model - Hồi quy tuyến tính."
   ]
  },
  {
   "cell_type": "markdown",
   "metadata": {},
   "source": [
    "Chúng ta sẽ làm quen với mô hình thông qua bài toán **Dự đoán giá nhà**. Bài toán được phát biểu như sau: Cho một căn nhà có diện tích $x_1 m^2$, $x_2$ phòng ngủ và cách trung tâm thành phố $x_3$ km. Hãy Định giá căn nhà dựa vào các trường thông tin đã có. Biết rằng chúng ta có số liệu từ $n$ căn nhà.\n",
    "\n",
    "\n",
    "\n",
    "Ta gọi hàm dự đoán $y=f(x)$. Mục đích của chúng ta là sẽ đi tìm một hàm $f(x)=\\hat{y}$ sao cho $\\hat{y}\\approx y$. Ta có dữ liệu đầu vào là một ma trận $x = [x_1, x_2, x_3]$ và một vecto cột $y$ tương ứng là nhãn của dữ liệu."
   ]
  },
  {
   "cell_type": "markdown",
   "metadata": {},
   "source": [
    "Ta sẽ tiếp cận bài toán một cách đơn giản trước. Giả sử chúng ta có dữ liệu từ 3 căn nhà và được biểu diên dưới dạng ma trận như sau:\n",
    "\n",
    "$$\n",
    "\\begin{bmatrix}\n",
    "x_{1,1} & x_{1,2} & x_{1,3} \\\\\n",
    "x_{2,1} & x_{2,2} & x_{2,3} \\\\\n",
    "x_{3,1} & x_{3,2} & x_{3,3}\n",
    "\\end{bmatrix}\n",
    "\\begin{bmatrix}\n",
    "a_1 \\\\\n",
    "a_2 \\\\\n",
    "a_3\n",
    "\\end{bmatrix}\n",
    "=\n",
    "\\begin{bmatrix}\n",
    "y_1 \\\\\n",
    "y_2 \\\\\n",
    "y_3\n",
    "\\end{bmatrix}\n",
    "$$\n",
    "\n",
    "Ta sẽ thấy khá rõ ràng là đây là một bài toán phổ thông -> một đứa trẻ cũng giải được. Ta sẽ dễ dàng tìm được vecto $A$ với các giá trị ở ma trận $X$ cho sẵn. Lưu ý ở đây. Các hệ số là dữ liệu đầu vào tương ứng với các trường dữ liệu. và vecto $A$ biểu thị cho tham số và \"Tầm ảnh hưởng của từng trường dữ liệu\" ($a_1$ ở trong vecto chính là hệ số của trường thông tin *diện tích căn nhà* đã đề cập ở đề bài). Bằng các phương pháp giải hệ phương trình đã học, ta dễ dàng tính được vecto $A$. Đồng thời bằng phương pháp hình học ta dễ dàng vẽ được một đường thẳng đi qua 3 điểm có tọa độ tương ứng là ma trận dữ liệu đầu vào."
   ]
  },
  {
   "cell_type": "markdown",
   "metadata": {},
   "source": [
    "Nhưng nếu chỉ dừng ở đây thì quá đơn giản. Ta luôn có thể trích ra được bộ dữ liệu gồm chính xác $m$ dữ liệu tương ứng với $m$ trường dữ liệu, sau đó tiến hành giải hệ phương trình. Nhưng để ý thấy, tất cả các điểm đều không nằm trên cùng 1 đường thẳng. Điều này xảy ra do một vài yếu tố khác nhau dẫn tới ta cần lựa chọn các đường thẳng sao cho *\"Thật khéo\"*. Hay nói cách khác là phải chọn đường thẳng sao cho tổng bình phương khoảng cách từ các điểm dữ liệu đến đường thẳng này là bé nhất. Lưu ý, bài toán Hồi quy tuyến tính có nhiều hơn 1 cách tiếp cận, tuy nhiên ở đây sẽ đề cập đến hồi quy tuyến tính bằng phương pháp tối thiểu (OLS). "
   ]
  },
  {
   "cell_type": "markdown",
   "metadata": {},
   "source": [
    "Chúng ta có thể dễ dàng nhận thấy phương trình $f(x) = y$ sẽ có thể biểu diễn là $f(x) = w_1x_1 + w_2x_2 + w_3x_3 + w_0 = y$\n",
    "\n",
    "Trong đó:\n",
    "* $w_i$ là các hệ số cần tìm\n",
    "* $x_i$ là vecto cột chứa dữ liệu đầu vào\n",
    "* $w_0$ là hệ số tự do\n",
    "* $y$ là kết quả thực tế.\n",
    "\n",
    "Ta có vecto $\\mathbf{w} = [w_0, w_1, w_2, w_3]^T$ là vecto hệ số cần tối ưu và $\\overline{x} = [1, x]$ ($x$ ngang hoặc x bar) là ma trận mở rộng thêm một cột 1 đầu tiên để thuận tiện cho việc tính toán (Tìm hệ số tự do $w_0$) khi này ta có phương trình \n",
    "\n",
    "$$\n",
    "y \\approx \\mathbf{w}\\overline{x} = \\hat{y} \n",
    "$$\n",
    "\n",
    "Sai số được tính bằng công thức **MSE** đã được đề cập ở mục các hệ số đánh giá phía trên.\n",
    "$$\n",
    "MSE = \\frac{1}{n} \\sum_{i = 1}^{n}{(y - \\mathbf{w}\\overline{x})^2}\n",
    "$$\n",
    "\n",
    "Hàm mất mát (loss function) của bài toán được tính bằng công thức.\n",
    "\n",
    "$$\n",
    "\\mathcal{L}(\\mathbf{\\mathbf{w}}) = \\frac{1}{2} \\sum_{i=1}^{N} \\left( y_i - \\bar{x}_i \\mathbf{w} \\right)^2 \\quad\n",
    "$$\n",
    "\n",
    "Hay đơn giản hóa theo dạng ma trận như sau:\n",
    "\n",
    "$$\n",
    "\\mathcal{L(\\mathbf{w})} = \\frac{1}{2}\\|y-\\overline{X}\\mathbf{w}\\|_2^2\n",
    "$$\n",
    "\n",
    "\n",
    "Chúng ta luôn mong muốn rằng sự mất mát (sai số) là nhỏ nhất, điều đó đồng nghĩa với việc tìm vector hệ số $w$ sao cho giá trị của hàm mất mát này càng nhỏ càng tốt. Giá trị của $w$ làm cho hàm mất mát đạt giá trị nhỏ nhất được gọi là điểm tối ưu (optimal point), ký hiệu:\n",
    "\n",
    "$$\n",
    "w^* = \\argmin{\\mathcal{L}(\\mathbf{w})}\n",
    "$$\n"
   ]
  },
  {
   "cell_type": "markdown",
   "metadata": {},
   "source": [
    "Vậy giải nghiệm của bài toán hồi quy tuyến tính như nào? Ta sẽ tiến hành các bước như sau:\n",
    "\n",
    "Đầu tiên ta tiến hành đạo hàm hàm mất mát theo $w$:\n",
    "\n",
    "$$\n",
    "\\frac{\\partial \\mathcal{L}(\\mathbf{w})}{\\partial \\mathbf{w}} = \\overline{\\mathbf{X}}^T \\left( \\overline{\\mathbf{X}} \\mathbf{w} - \\mathbf{y} \\right)\n",
    "$$\n",
    "\n",
    "Giải phương trình đạo hàm bằng 0 ta có\n",
    "\n",
    "$$\n",
    "\\overline{\\mathbf{X}}^T\\overline{\\mathbf{X}}\\mathbf{w} = \\overline{\\mathbf{X}}^Ty\n",
    "$$\n",
    "\n",
    "Ta đặt \n",
    "* $\\overline{\\mathbf{X}}^T\\overline{\\mathbf{X}} = A$\n",
    "* $\\overline{\\mathbf{X}}^Ty = b$\n",
    "\n",
    "Khi này phương trình trên viết được dưới dạng\n",
    "$$\n",
    "A\\mathbf{w} = b\n",
    "$$\n",
    "\n",
    "Như vậy công thức nghiệm của bài toán sẽ là\n",
    "\n",
    "$$\n",
    "w = A^{-1}b = (\\overline{\\mathbf{X}}^T\\overline{\\mathbf{X}})^{-1}\\bar{\\mathbf{X}}^Ty\n",
    "$$\n",
    "\n",
    "Sau khi đã có các hệ số $w$ với dữ liệu mới ta chỉ cần tiến hành nhân ma trận như bình thường. Lưu ý trước khi nhân, ta cần thêm một cột 1 ở phía trước để phù hợp với hệ số tự do."
   ]
  },
  {
   "cell_type": "markdown",
   "metadata": {},
   "source": [
    "Ta sẽ xét một ví dụ đơn giản về việc tại sao không thể dùng cách chọn $m$ điểm rồi giải hệ phương trình như ở phổ thông mà đã đề cập ở phía trên. \n",
    "\n",
    "\n",
    "\n",
    "Ta xét bài toán dự đoán cân nặng dựa vào chiều cao. Cho dữ liệu gồm thông tin của 15 người, tìm đường hồi quy dự đoán cân nặng theo chiều cao. Và dự đoán cân nặng cho một người có chiều cao 155\n",
    "Ta tiến hành trực quan hóa như sau"
   ]
  },
  {
   "cell_type": "code",
   "execution_count": 5,
   "metadata": {
    "ExecuteTime": {
     "end_time": "2024-07-27T19:15:38.349957Z",
     "start_time": "2024-07-27T19:15:38.100664Z"
    }
   },
   "outputs": [
    {
     "data": {
      "image/png": "[encoded data removed]",
      "text/plain": [
       "<Figure size 640x480 with 1 Axes>"
      ]
     },
     "metadata": {},
     "output_type": "display_data"
    }
   ],
   "source": [
    "# height (cm)\n",
    "x = np.array([[147,150, 153, 158, 163, 165, 168, 170, 173, 175, 178, 180, 183]]).T\n",
    "# weight (kg)\n",
    "y = np.array([[ 49, 50, 51,  54, 58, 59, 60, 62, 63, 64, 66, 67, 68]]).T\n",
    "plt.plot(x, y, 'ro')\n",
    "plt.axis([140, 190, 45, 75])\n",
    "plt.xlabel('Height (cm)')\n",
    "plt.ylabel('Weight (kg)')\n",
    "plt.show()"
   ]
  },
  {
   "cell_type": "markdown",
   "metadata": {},
   "source": [
    "Ta tiến hành chọn 2 điểm đầu tiên, sau đó giải hệ phương trình:\n",
    "$$\n",
    "\\begin{bmatrix}\n",
    "147a & b\\\\\n",
    "150a & b\n",
    "\\end{bmatrix}\n",
    "=\n",
    "\\begin{bmatrix}\n",
    "49 \\\\\n",
    "50\n",
    "\\end{bmatrix}\n",
    "$$"
   ]
  },
  {
   "cell_type": "code",
   "execution_count": 6,
   "metadata": {
    "ExecuteTime": {
     "end_time": "2024-07-27T19:15:38.361878Z",
     "start_time": "2024-07-27T19:15:38.351484Z"
    }
   },
   "outputs": [
    {
     "name": "stdout",
     "output_type": "stream",
     "text": [
      "a = 0.33333333333333487\n",
      "b = -2.33146835171284e-13\n"
     ]
    }
   ],
   "source": [
    "A = np.array([[147, 1],\n",
    "              [150, 1]])\n",
    "b = np.array([49, 50])\n",
    "solution = np.linalg.solve(A, b)\n",
    "a, b = solution\n",
    "print(f'a = {a}')\n",
    "print(f'b = {b}')"
   ]
  },
  {
   "cell_type": "code",
   "execution_count": 16,
   "metadata": {
    "ExecuteTime": {
     "end_time": "2024-07-27T19:15:38.575903Z",
     "start_time": "2024-07-27T19:15:38.364215Z"
    }
   },
   "outputs": [
    {
     "data": {
      "image/png": "[encoded data removed]",
      "text/plain": [
       "<Figure size 640x480 with 1 Axes>"
      ]
     },
     "metadata": {},
     "output_type": "display_data"
    }
   ],
   "source": [
    "# Lựa chọn 2 điểm\n",
    "X_selected = x[:2, 0].reshape(-1, 1)\n",
    "y_selected = y[:2].reshape(-1, 1)\n",
    "\n",
    "# Vẽ dữ liệu và đường thẳng\n",
    "plt.plot(x, y, 'ro', label='Data points')\n",
    "plt.plot(X_selected, y_selected, 'bo', label='Selected points')\n",
    "plt.plot(x, a*x + b, 'b-', label='Fitted line')\n",
    "plt.axis([140, 190, 45, 75])\n",
    "plt.xlabel('Height (cm)')\n",
    "plt.ylabel('Weight (kg)')\n",
    "plt.legend()\n",
    "plt.show()"
   ]
  },
  {
   "cell_type": "markdown",
   "metadata": {},
   "source": [
    "Qua trực quan hóa đồ thị, ta có thể thấy rõ ràng sự sai lệch sẽ tăng lên đáng kế về sau. Sẽ có thắc mắc là tại sao không chọn điểm đầu và điểm ở cuối. Điều này cũng không chắc chắn được kết quả và sai số vẫn có thể khá lớn."
   ]
  },
  {
   "cell_type": "markdown",
   "metadata": {},
   "source": [
    ">Lưu ý: Phương pháp vừa nhắc đến phía trên là phương pháp bình phương tối thiểu - Ordinary Least Squares(OLS). Ngoài phương pháp này ra, còn có phương khác là Hồi quy bách phân - Quantile Regression (QR)"
   ]
  },
  {
   "cell_type": "code",
   "execution_count": 22,
   "metadata": {
    "ExecuteTime": {
     "end_time": "2024-07-27T19:15:38.590799Z",
     "start_time": "2024-07-27T19:15:38.577920Z"
    }
   },
   "outputs": [],
   "source": [
    "class LinearRegreesion:\n",
    "    def fit(self, x, y):\n",
    "        ones = np.ones((1, x.shape[0])).T\n",
    "        x_bar = np.concatenate([ones, x], axis=1)\n",
    "        A = np.dot(x_bar.T, x_bar)\n",
    "        b = np.dot(x_bar.T, y)\n",
    "        self.theta = np.dot(np.linalg.inv(A), b)\n",
    "        self.intercept = self.theta[0]\n",
    "        self.coefficient = self.theta[1:]\n",
    "        return self\n",
    "    \n",
    "    def predict(self, x):\n",
    "        ones = np.ones((1, x.shape[0])).T\n",
    "        x_bar = np.concatenate((ones, x), axis=1)\n",
    "        return np.dot(x_bar, self.theta)"
   ]
  },
  {
   "cell_type": "code",
   "execution_count": 24,
   "metadata": {
    "ExecuteTime": {
     "end_time": "2024-07-27T19:15:38.604781Z",
     "start_time": "2024-07-27T19:15:38.593417Z"
    }
   },
   "outputs": [
    {
     "data": {
      "text/plain": [
       "array([[52.94135889],\n",
       "       [55.7373837 ]])"
      ]
     },
     "execution_count": 24,
     "metadata": {},
     "output_type": "execute_result"
    }
   ],
   "source": [
    "x = np.array([[147,150, 153, 158, 163, 165, 168, 170, 173, 175, 178, 180, 183]]).T\n",
    "# weight (kg)\n",
    "y = np.array([[ 49, 50, 51,  54, 58, 59, 60, 62, 63, 64, 66, 67, 68]]).T\n",
    "model = LinearRegreesion()\n",
    "model.fit(x, y)\n",
    "model.predict(np.array([[155, 160]]).T)"
   ]
  },
  {
   "cell_type": "code",
   "execution_count": 25,
   "metadata": {},
   "outputs": [
    {
     "data": {
      "image/png": "[encoded data removed]",
      "text/plain": [
       "<Figure size 640x480 with 1 Axes>"
      ]
     },
     "metadata": {},
     "output_type": "display_data"
    }
   ],
   "source": [
    "w = model.theta\n",
    "x0 = np.linspace(145, 185, 2, endpoint=True)\n",
    "y0 = w[0] + w[1]*x0\n",
    "\n",
    "# Drawing the fitting line \n",
    "plt.plot(x, y, 'ro') \n",
    "plt.plot(x0, y0)\n",
    "plt.axis([140, 190, 45, 95])\n",
    "plt.xlabel('Height (cm)')\n",
    "plt.ylabel('Weight (kg)')\n",
    "plt.show()"
   ]
  },
  {
   "cell_type": "markdown",
   "metadata": {},
   "source": [
    "Một trường hợp cho thấy nhiễu ảnh hưởng tới kết quả như thế nào. Vẫn với ví dụ trước, chúng ta thêm 1 cặp giá trị (150 - 90) như sau."
   ]
  },
  {
   "cell_type": "code",
   "execution_count": 10,
   "metadata": {
    "ExecuteTime": {
     "end_time": "2024-07-27T19:15:38.612981Z",
     "start_time": "2024-07-27T19:15:38.607107Z"
    }
   },
   "outputs": [],
   "source": [
    "x = np.array([[147, 150, 153, 158, 163, 165, 168, 170, 173, 175, 178, 180, 183, 150]]).T\n",
    "y = np.array([[ 49, 50, 51,  54, 58, 59, 60, 62, 63, 64, 66, 67, 68, 90]]).T"
   ]
  },
  {
   "cell_type": "markdown",
   "metadata": {},
   "source": [
    "Thực hiện dự đoán với dữ liệu mới như sau."
   ]
  },
  {
   "cell_type": "code",
   "execution_count": 11,
   "metadata": {
    "ExecuteTime": {
     "end_time": "2024-07-27T19:15:38.809705Z",
     "start_time": "2024-07-27T19:15:38.616643Z"
    }
   },
   "outputs": [
    {
     "data": {
      "image/png": "[encoded data removed]",
      "text/plain": [
       "<Figure size 640x480 with 1 Axes>"
      ]
     },
     "metadata": {},
     "output_type": "display_data"
    }
   ],
   "source": [
    "model = LinearRegreesion()\n",
    "model.fit(x, y)\n",
    "w = model.theta\n",
    "x0 = np.linspace(145, 185, 2, endpoint=True)\n",
    "y0 = w[0] + w[1]*x0\n",
    "\n",
    "# Drawing the fitting line \n",
    "plt.plot(x, y, 'ro') \n",
    "plt.plot(x0, y0)\n",
    "plt.axis([140, 190, 45, 95])\n",
    "plt.xlabel('Height (cm)')\n",
    "plt.ylabel('Weight (kg)')\n",
    "plt.show()"
   ]
  },
  {
   "cell_type": "markdown",
   "metadata": {},
   "source": [
    "## **PERCEPTRON LEARNING ALGORITHMM - PLA**"
   ]
  },
  {
   "cell_type": "markdown",
   "metadata": {},
   "source": [
    "Ý tưởng của PLA là chúng ta sẽ đi tìm một siêu phẳng sao cho chia dữ liệu thành đúng 2 phần mỗi phần riêng biệt và các phần đều chung 1 nhãn. Cách ta tìm siêu phẳng, tương tự như việc ta tìm một đường tuyến tính ở phần hồi quy tuyến tính. \n",
    "\n",
    "PLA tiến hành huấn luyện với dữ liệu đầu vào bằng cách liên tục cập nhật các hệ số $w$ và so sánh với nhãn thực tế. Nếu dự đoán của mô hình trên tập huấn luyện là sai mô hình sẽ tiến hành cập nhật lại hệ số cho tới khi tìm được siêu phẳng cắt hoàn hảo thành 2 phần. Điều này có nghĩa, mô hình rất nhạy cảm với nhiễu."
   ]
  },
  {
   "cell_type": "code",
   "execution_count": 12,
   "metadata": {
    "ExecuteTime": {
     "end_time": "2024-07-27T19:15:38.828460Z",
     "start_time": "2024-07-27T19:15:38.811712Z"
    }
   },
   "outputs": [],
   "source": [
    "class Perceptron:\n",
    "    def __init__(self, learning_rate=1.0, epochs=10):\n",
    "        \"\"\"\n",
    "        Initialize the Perceptron with learning rate and number of epochs.\n",
    "\n",
    "        :param learning_rate: Learning rate for weight updates\n",
    "        :param epochs: Number of iterations over the training data\n",
    "        \"\"\"\n",
    "        self.learning_rate = learning_rate\n",
    "        self.epochs = epochs\n",
    "        self.weights = None\n",
    "\n",
    "    def fit(self, X, y):\n",
    "        \"\"\"\n",
    "        Train the Perceptron model with input data X and labels y.\n",
    "\n",
    "        :param X: Input data (should be of shape (num_samples, num_features))\n",
    "        :param y: Labels (should be of shape (num_samples,))\n",
    "        \"\"\"\n",
    "        # Add a column of ones to handle the bias term\n",
    "        X = np.hstack([np.ones((X.shape[0], 1)), X])\n",
    "\n",
    "        # Initialize weights to zeros\n",
    "        self.weights = np.zeros(X.shape[1])\n",
    "\n",
    "        for epoch in range(self.epochs):\n",
    "            for i in range(X.shape[0]):\n",
    "                # Predict the class of sample i\n",
    "                prediction = np.sign(np.dot(X[i], self.weights))\n",
    "                \n",
    "                # Update weights if prediction is incorrect\n",
    "                if prediction != y[i]:\n",
    "                    self.weights += self.learning_rate * (y[i] - prediction) * X[i]\n",
    "\n",
    "    def predict(self, X):\n",
    "        \"\"\"\n",
    "        Predict the class for input data X.\n",
    "\n",
    "        :param X: Input data (should be of shape (num_samples, num_features))\n",
    "        :return: Predicted classes (should be of shape (num_samples,))\n",
    "        \"\"\"\n",
    "        # Add a column of ones to handle the bias term\n",
    "        X = np.hstack([np.ones((X.shape[0], 1)), X])\n",
    "        \n",
    "        return np.sign(np.dot(X, self.weights))"
   ]
  },
  {
   "cell_type": "markdown",
   "metadata": {},
   "source": [
    "## **lOGISTIC REGRESSION**"
   ]
  },
  {
   "cell_type": "markdown",
   "metadata": {},
   "source": []
  },
  {
   "cell_type": "code",
   "execution_count": 13,
   "metadata": {
    "ExecuteTime": {
     "end_time": "2024-07-27T19:15:38.848484Z",
     "start_time": "2024-07-27T19:15:38.830984Z"
    }
   },
   "outputs": [],
   "source": [
    "class LogisticRegression:\n",
    "    def __init__(self, learning_rate=0.05, tol=1e-4, max_iter=10000):\n",
    "        \"\"\"\n",
    "        Initialize the logistic regression model with given hyperparameters.\n",
    "        \n",
    "        Parameters:\n",
    "        learning_rate (float): The learning rate for gradient descent.\n",
    "        tol (float): The tolerance for the stopping criterion.\n",
    "        max_iter (int): The maximum number of iterations for training.\n",
    "        \"\"\"\n",
    "        self.learning_rate = learning_rate\n",
    "        self.tol = tol\n",
    "        self.max_iter = max_iter\n",
    "        self.coeff = None\n",
    "    \n",
    "    def _sigmoid(self, s):\n",
    "        \"\"\"\n",
    "        Compute the sigmoid function.\n",
    "        \n",
    "        Parameters:\n",
    "        x (ndarray): The input value or array.\n",
    "        \n",
    "        Returns:\n",
    "        ndarray: The sigmoid of the input.\n",
    "        \"\"\"\n",
    "        print(s)\n",
    "        return 1 / (1 + np.exp(-s))\n",
    "    \n",
    "    def fit(self, x, y):\n",
    "        \"\"\"\n",
    "        Fit the logistic regression model to the training data.\n",
    "        \n",
    "        Parameters:\n",
    "        x (ndarray): The input features of shape (n_samples, n_features).\n",
    "        y (ndarray): The target values of shape (n_samples, 1).\n",
    "        \n",
    "        Returns:\n",
    "        self: Fitted model.\n",
    "        \"\"\"\n",
    "        # Add a column of ones to the input features to account for the bias term\n",
    "        X_bar = np.concatenate((np.ones([x.shape[0], 1]), x), axis=1)\n",
    "        N = X_bar.shape[0]  # Number of samples\n",
    "        d = X_bar.shape[1]  # Number of features (including bias)\n",
    "        \n",
    "        # Initialize weights randomly\n",
    "        w = np.random.randn(d, 1)\n",
    "        \n",
    "        for count in range(1, self.max_iter + 1):\n",
    "            # Shuffle the data indices\n",
    "            mix_id = np.random.permutation(N)\n",
    "            for i in mix_id:\n",
    "                xi = X_bar[i].reshape((d, 1))\n",
    "                \n",
    "                yi = y[i]\n",
    "                zi = self._sigmoid(np.dot(w.T, xi))\n",
    "                # Update weights using gradient descent\n",
    "                w_new = w + self.learning_rate * (yi - zi) * xi\n",
    "                \n",
    "                # Check for convergence every N iterations\n",
    "                if count % N == 0:\n",
    "                    if np.linalg.norm(w_new - w) < self.tol:\n",
    "                        self.coeff = w_new\n",
    "                        return self\n",
    "                w = w_new\n",
    "                \n",
    "        self.coeff = w\n",
    "        return self\n",
    "    \n",
    "    def predict(self, X):\n",
    "        \"\"\"\n",
    "        Predict the target values for given input data.\n",
    "        \n",
    "        Parameters:\n",
    "        X (ndarray): The input features of shape (n_samples, n_features).\n",
    "        \n",
    "        Returns:\n",
    "        list: Predicted binary values (0 or 1).\n",
    "        \"\"\"\n",
    "        # Add a column of ones to the input features to account for the bias term\n",
    "        X_bar = np.concatenate((np.ones([X.shape[0], 1]), X), axis=1)\n",
    "        # Compute the sigmoid of the dot product of the input features and the weights\n",
    "        return self._sigmoid(np.dot(X_bar, self.coeff))"
   ]
  },
  {
   "cell_type": "markdown",
   "metadata": {},
   "source": [
    "# **DECISION TREE MODELS**"
   ]
  },
  {
   "cell_type": "markdown",
   "metadata": {},
   "source": [
    "DecisionTree là một thuật toán học máy dùng để phân loại và dự đoán. Nó hoạt động bằng cách chia nhỏ tập dữ liệu đầu vào thành các tập con dựa trên các thuộc tính và giá trị của chúng, theo một cấu trúc giống như cây với các nút và nhánh. Các thành phần chính của một cây quyết định bao gồm:\n",
    "\n",
    "* Nút gốc (Root Node): Là nút trên cùng của cây, đại diện cho toàn bộ tập dữ liệu. Đây là điểm bắt đầu của quá trình phân chia.\n",
    "\n",
    "* Nút quyết định (Decision Nodes): Các nút trong cây nơi dữ liệu được phân chia dựa trên một thuộc tính cụ thể.\n",
    "\n",
    "* Nút lá (Leaf Nodes): Các nút ở cuối cây, nơi không có phân chia tiếp theo. Các nút này đại diện cho các giá trị dự đoán hoặc lớp cuối cùng.\n",
    "\n",
    "* Nhánh (Branches): Các đường nối giữa các nút, đại diện cho các quyết định hoặc kết quả của các phép thử trên các thuộc tính.\n",
    "\n",
    "Information gain (IG) là một khái niệm quan trọng trong lý thuyết thông tin và học máy, được sử dụng để chọn thuộc tính tốt nhất cho việc chia dữ liệu trong các thuật toán như cây quyết định. Information Gain đo lường mức độ giảm thiểu sự không chắc chắn (entropy) khi dữ liệu được chia thành các tập con dựa trên một thuộc tính cụ thể. Hay nói cách khác Information gain tỷ lệ nghịch với entropy."
   ]
  },
  {
   "cell_type": "markdown",
   "metadata": {},
   "source": [
    "##  **DECISIONTREE CLASSIFIER - Cây quyết định phân loại**"
   ]
  },
  {
   "cell_type": "code",
   "execution_count": 14,
   "metadata": {
    "ExecuteTime": {
     "end_time": "2024-07-27T19:15:38.893852Z",
     "start_time": "2024-07-27T19:15:38.853021Z"
    }
   },
   "outputs": [],
   "source": [
    "class Node:\n",
    "    def __init__(self, feature_index=None, threshold=None, left=None, right=None, info_gain=None, value=None):\n",
    "        self.feature_index = feature_index  # Chỉ số của thuộc tính dùng để phân chia\n",
    "        self.threshold = threshold          # Ngưỡng để phân chia\n",
    "        self.left = left                    # Node con trái\n",
    "        self.right = right                  # Node con phải\n",
    "        self.info_gain = info_gain          # Information Gain của nút này\n",
    "        self.value = value                  # Giá trị của nút (nếu là lá)\n",
    "\n",
    "    def is_leaf(self):\n",
    "        return self.value is not None\n",
    "\n",
    "class DecisionTreeClassifier:\n",
    "    def __init__(self, min_samples_split=2, max_depth=2):\n",
    "        ''' constructor '''\n",
    "        \n",
    "        # initialize the root of the tree \n",
    "        self.root = None\n",
    "        \n",
    "        # stopping conditions\n",
    "        self.min_samples_split = min_samples_split\n",
    "        self.max_depth = max_depth\n",
    "        \n",
    "    def build_tree(self, dataset, curr_depth=0):\n",
    "        ''' recursive function to build the tree ''' \n",
    "        \n",
    "        X, Y = dataset[:,:-1], dataset[:,-1]\n",
    "        num_samples, num_features = np.shape(X)\n",
    "        \n",
    "        # split until stopping conditions are met\n",
    "        if num_samples>=self.min_samples_split and curr_depth<=self.max_depth:\n",
    "            # find the best split\n",
    "            best_split = self.get_best_split(dataset, num_samples, num_features)\n",
    "            # check if information gain is positive\n",
    "            if best_split[\"info_gain\"]>0:\n",
    "                # recur left\n",
    "                left_subtree = self.build_tree(best_split[\"dataset_left\"], curr_depth+1)\n",
    "                # recur right\n",
    "                right_subtree = self.build_tree(best_split[\"dataset_right\"], curr_depth+1)\n",
    "                # return decision node\n",
    "                return Node(best_split[\"feature_index\"], best_split[\"threshold\"], \n",
    "                            left_subtree, right_subtree, best_split[\"info_gain\"])\n",
    "        \n",
    "        # compute leaf node\n",
    "        leaf_value = self.calculate_leaf_value(Y)\n",
    "        # return leaf node\n",
    "        return Node(value=leaf_value)\n",
    "    \n",
    "    def get_best_split(self, dataset, num_samples, num_features):\n",
    "        ''' function to find the best split '''\n",
    "        \n",
    "        # dictionary to store the best split\n",
    "        best_split = {}\n",
    "        max_info_gain = -float(\"inf\")\n",
    "        \n",
    "        # loop over all the features\n",
    "        for feature_index in range(num_features):\n",
    "            feature_values = dataset[:, feature_index]\n",
    "            possible_thresholds = np.unique(feature_values)\n",
    "            # loop over all the feature values present in the data\n",
    "            for threshold in possible_thresholds:\n",
    "                # get current split\n",
    "                dataset_left, dataset_right = self.split(dataset, feature_index, threshold)\n",
    "                # check if childs are not null\n",
    "                if len(dataset_left)>0 and len(dataset_right)>0:\n",
    "                    y, left_y, right_y = dataset[:, -1], dataset_left[:, -1], dataset_right[:, -1]\n",
    "                    # compute information gain\n",
    "                    curr_info_gain = self.information_gain(y, left_y, right_y, \"gini\")\n",
    "                    # update the best split if needed\n",
    "                    if curr_info_gain>max_info_gain:\n",
    "                        best_split[\"feature_index\"] = feature_index\n",
    "                        best_split[\"threshold\"] = threshold\n",
    "                        best_split[\"dataset_left\"] = dataset_left\n",
    "                        best_split[\"dataset_right\"] = dataset_right\n",
    "                        best_split[\"info_gain\"] = curr_info_gain\n",
    "                        max_info_gain = curr_info_gain\n",
    "                        \n",
    "        # return best split\n",
    "        return best_split\n",
    "    \n",
    "    def split(self, dataset, feature_index, threshold):\n",
    "        ''' function to split the data '''\n",
    "        \n",
    "        dataset_left = np.array([row for row in dataset if row[feature_index]<=threshold])\n",
    "        dataset_right = np.array([row for row in dataset if row[feature_index]>threshold])\n",
    "        return dataset_left, dataset_right\n",
    "    \n",
    "    def information_gain(self, parent, l_child, r_child):\n",
    "        ''' function to compute information gain '''\n",
    "        \n",
    "        weight_l = len(l_child) / len(parent)\n",
    "        weight_r = len(r_child) / len(parent)\n",
    "        gain = self.entropy(parent) - (weight_l*self.entropy(l_child) + weight_r*self.entropy(r_child))\n",
    "        return gain\n",
    "    \n",
    "    def entropy(self, y):\n",
    "        class_labels = np.unique(y)\n",
    "        entropy = 0\n",
    "        for cls in class_labels:\n",
    "            p_cls = len(y[y == cls]) / len(y)\n",
    "            entropy += -p_cls * np.log2(p_cls)\n",
    "        return entropy\n",
    "    \n",
    "    def calculate_leaf_value(self, Y):\n",
    "        ''' function to compute leaf node '''\n",
    "        \n",
    "        Y = list(Y)\n",
    "        return max(Y, key=Y.count)\n",
    "    \n",
    "    def print_tree(self, tree=None, indent=\" \"):\n",
    "        ''' function to print the tree '''\n",
    "        \n",
    "        if not tree:\n",
    "            tree = self.root\n",
    "\n",
    "        if tree.value is not None:\n",
    "            print(tree.value)\n",
    "\n",
    "        else:\n",
    "            print(\"X_\"+str(tree.feature_index), \"<=\", tree.threshold, \"?\", tree.info_gain)\n",
    "            print(\"%sleft:\" % (indent), end=\"\")\n",
    "            self.print_tree(tree.left, indent + indent)\n",
    "            print(\"%sright:\" % (indent), end=\"\")\n",
    "            self.print_tree(tree.right, indent + indent)\n",
    "    \n",
    "    def fit(self, X, Y):\n",
    "        ''' function to train the tree '''\n",
    "        \n",
    "        dataset = np.concatenate((X, Y), axis=1)\n",
    "        self.root = self.build_tree(dataset)\n",
    "    \n",
    "    def predict(self, X):\n",
    "        ''' function to predict new dataset '''\n",
    "        \n",
    "        preditions = [self.make_prediction(x, self.root) for x in X]\n",
    "        return preditions\n",
    "    \n",
    "    def make_prediction(self, x, tree):\n",
    "        ''' function to predict a single data point '''\n",
    "        \n",
    "        if tree.value!=None: return tree.value\n",
    "        feature_val = x[tree.feature_index]\n",
    "        if feature_val<=tree.threshold:\n",
    "            return self.make_prediction(x, tree.left)\n",
    "        else:\n",
    "            return self.make_prediction(x, tree.right)"
   ]
  },
  {
   "cell_type": "markdown",
   "metadata": {},
   "source": [
    "# **GIẢM CHIỀU DỮ LIỆU**"
   ]
  },
  {
   "cell_type": "markdown",
   "metadata": {},
   "source": [
    "Dimensionality Reduction (giảm chiều dữ liệu), là một trong những kỹ thuật quan trọng trong Machine Learning. Các vecto đặc trưng trong các bài toán thực tế có thể có số chiều rất lớn, tới vài nghìn. Ngoài ra, số lượng các điểm dữ liệu cũng thường rất lớn. Nếu thực hiện lưu trữ và tính toán trực tiếp trên dữ liệu có số chiều cao này thì sẽ gặp khó khăn cả về việc lưu trữ và tốc độ tính toán. Vì vậy, giảm số chiều dữ liệu là một bước quan trọng trong nhiều bài toán. Đây cũng được coi là một phương pháp nén dữ liệu.\n",
    "\n",
    "Ngoài tác dụng để giảm thiếu số chiều dữ liệu, tăng tốc độ tính toán, giảm thiểu dữ liệu khi lưu trữ. việc giảm chiều dữ liệu còn có tác dụng để trực quan hóa những dữ liệu phức tạp. Khi một dữ liệu có nhiều hơn 3 chiều dữ liệu, việc trực quan hóa trở nên khó khăn khi không thể diễn đạt hoàn chỉnh 4 trường dữ liệu. Việc giảm chiều sẽ khiến việc trực quan hóa trở nên đơn giản hơn.\n",
    "\n",
    "Có một vài cách, tuy nhiên phổ nhất là lựa chọn trường thông tin và phân tích thành phần chính (Principal Component Analysis - PCA). Với dữ liệu ban đầu ở trong không gian $D$ chiều, toạ độ của mỗi điểm được xác định dựa trên một hệ toạ độ nào đó. Ở các hệ toạ độ khác nhau, hiển nhiên là toạ độ của mỗi điểm cũng khác nhau.Mỗi vector cột $x=[x_1,x_2,\\dots,x_D] \\in \\mathbb{R}^D$ biểu diễn của nó trong hệ đơn vị là:\n",
    "\n",
    "$$x=x_1 e_1+\\dots+x_De_D$$\n",
    "\n",
    "Giả sử có một hệ cơ sở khác $u_1,\\dots,u_D$ (các vector này độc lập tuyến tính), vậy thì biểu diễn của vector x trong hệ cơ sở mới này có dạng:\n",
    "\n",
    "$$y=y_1 e_1+\\dots+y_De_D$$"
   ]
  },
  {
   "cell_type": "markdown",
   "metadata": {},
   "source": [
    "### Nhắc lại xác suất thống kê\n",
    "\n",
    "* **Kỳ vọng**: Giá trị trung bình của dữ liệu. Ký hiệu $\\overline{x}$\n",
    "\n",
    "* **Vecto kỳ vọng**: Vecto chứa các giá trị trung bình của dữ liệu nhiều chiều, mỗi giá trị là một kỳ vọng của các trường thông tin. Ký hiệu là $\\overline{x}$\n",
    "\n",
    "* **Phương sai**: Phương sai là trung bình cộng của bình phương khoảng cách từ mỗi điểm tới kỳ vọng. Phương sai càng nhỏ thì các điểm dữ liệu càng gần với kỳ vọng, tức các điểm dữ liệu càng giống nhau. Ký hiệu là $\\sigma$\n",
    "\n",
    "* **Hiệp phương sai**: là một khái niệm dùng để đo lường mối quan hệ tuyến tính giữa hai biến ngẫu nhiên. Nó cho biết mức độ biến thiên cùng chiều hay ngược chiều của hai biến so với trung bình. Khi hiệp phương sai dương, hai biến có xu hướng thay đổi cùng chiều; khi hiệp phương sai âm, hai biến có xu hướng thay đổi ngược chiều. Hiệp phương sai bằng không cho thấy không có mối quan hệ tuyến tính giữa hai biến. Công thức tính:\n",
    "\n",
    "$$cov(X, Y) = \\frac{1}{n}\\sum_{i=1}^{n}{(X_i - \\overline{X})(Y_i - \\overline{Y})}$$\n",
    "\n",
    "\n",
    "* **Ma trận hiệp phương sai**: là một khái niệm quan trọng trong thống kê và xác suất, được sử dụng để mô tả mối quan hệ tuyến tính giữa các biến ngẫu nhiên. Đây là một ma trận vuông trong đó phần tử ở hàng thứ $i$, cột thứ $j$ thể hiện độ đo tương quan giữa hai biến ngẫu nhiên tương ứng.\n",
    "\n",
    "$$S = \\frac{1}{n}\\sum_{i=1}^{n}{(x_i - \\overline{x})(x_i - \\overline{x})^T} = \\frac{1}{n}\\hat{X}\\hat{X}.T$$"
   ]
  },
  {
   "cell_type": "markdown",
   "metadata": {},
   "source": [
    "### **Các bước thực hiện tính PCA**\n",
    "\n",
    "* Đầu tiên, thực hiện tính ma trận hiệp phương sai. Khi này ta sẽ thu được ma trận vuông nửa xác định dương.\n",
    "\n",
    "* Ta tính giá trị riêng ($\\lambda_1, \\dots, \\lambda_n$) và vecto riêng ($e_1,\\dots e_n$) của ma trận hiệp phương sai.\n",
    "\n",
    "* Ta sắp xếp các giá trị riêng và các vecto riêng tương ứng theo thứ tự giảm dần.\n",
    "\n",
    "* Lựa chọn $k$ vector riêng đầu tiên (tương ứng là muốn giám xuống k chiều).\n",
    "\n",
    "* Xếp các vecto riêng đã chọn này vào ma trận $E$\n",
    "\n",
    "* Nhân dữ liệu đầu vào ($x$) với ma trận $E$. Ta thu được dữ liệu mới đã giảm chiều."
   ]
  },
  {
   "cell_type": "markdown",
   "metadata": {},
   "source": [
    "### **Lượng thông tin còn lại**\n",
    "\n",
    "Sau khi giảm chiều dữ liệu, lượng thông tin chắc chắn sẽ mất đi. Vậy làm sao để xác định được lượng thông tin còn lại sau khi giảm? Câu trả lời là dựa vào tổng tích lũy của các giá trị riêng $\\lambda$.\n",
    "\n",
    "Lượng thông tin còn lại sẽ được tính theo công thức:\n",
    "\n",
    "$$r_k = \\frac{\\sum_{i = 0}^{k}{\\lambda_i}}{\\sum_{j = 0}^{n}{\\lambda_j}}$$\n",
    "\n",
    "> Giả sử ta muốn giảm số chiều dữ liệu xuống, và sau khi giảm ta muốn lượng thông tin còn lại tối thiểu 80%. Thì ta cần phải tìm một số nguyên dương $k$ sao cho $r_k \\geq 80\\%$"
   ]
  },
  {
   "cell_type": "code",
   "execution_count": 15,
   "metadata": {
    "ExecuteTime": {
     "end_time": "2024-07-27T19:15:38.905261Z",
     "start_time": "2024-07-27T19:15:38.896009Z"
    }
   },
   "outputs": [],
   "source": [
    "class PCA:\n",
    "    def __init__(self, num_components: int = None) -> None:\n",
    "        self.num_components = num_components  # Number of principal components to keep\n",
    "        \n",
    "    \n",
    "    def fit_transform(self, x):\n",
    "        # Compute covariance matrix\n",
    "        cov_matrix = np.cov(x, rowvar=False)\n",
    "\n",
    "        # Compute eigenvalues and eigenvectors\n",
    "        eigenvalues, eigenvectors = np.linalg.eig(cov_matrix)\n",
    "\n",
    "        # Sort eigenvectors by descending eigenvalues\n",
    "        sorted_indices = np.argsort(eigenvalues)[::-1]\n",
    "        eigenvectors = eigenvectors[:, sorted_indices]\n",
    "        \n",
    "        # Select the specified number of principal components\n",
    "        if self.num_components:\n",
    "            principal_components = eigenvectors[:, :self.num_components]\n",
    "            return np.dot(x, principal_components)\n",
    "        \n",
    "        # Project data onto the eigenvectors\n",
    "        return np.dot(x, eigenvectors)\n"
   ]
  }
 ],
 "metadata": {
  "kernelspec": {
   "display_name": "Python 3",
   "language": "python",
   "name": "python3"
  },
  "language_info": {
   "codemirror_mode": {
    "name": "ipython",
    "version": 3
   },
   "file_extension": ".py",
   "mimetype": "text/x-python",
   "name": "python",
   "nbconvert_exporter": "python",
   "pygments_lexer": "ipython3",
   "version": "3.11.0"
  }
 },
 "nbformat": 4,
 "nbformat_minor": 2
}
