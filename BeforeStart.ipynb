{
 "cells": [
  {
   "cell_type": "markdown",
   "metadata": {},
   "source": [
    "# Import nesscary Library\n",
    "\n",
    "Các thư viện được sử dụng trong tài liệu sẽ được import trong phần này. \n",
    "Các thư viện trong đây bao gồm:\n",
    "+ Các thư viện hệ thống được dùng trong việc hỗ trợ đọc dữ liệu\n",
    "+ Các thư viện Toán học,trực quan hóa\n",
    "+ Các thư viện hỗ trợ\n",
    "+ Các bộ dữ liệu có sẵn\n",
    "+ Các mô hình có sẵn"
   ]
  },
  {
   "cell_type": "code",
   "execution_count": 1,
   "metadata": {
    "ExecuteTime": {
     "end_time": "2024-07-28T19:23:40.847738Z",
     "start_time": "2024-07-28T19:23:12.941771Z"
    }
   },
   "outputs": [],
   "source": [
    "# System library\n",
    "import os\n",
    "import time\n",
    "import sys\n",
    "\n",
    "# Helper model\n",
    "import numpy as np\n",
    "from numpy import random\n",
    "import pandas as pd\n",
    "import matplotlib.pyplot as plt\n",
    "import matplotlib\n",
    "import sklearn\n",
    "\n",
    "# scikit-learn helper model\n",
    "from sklearn.model_selection import train_test_split, GridSearchCV\n",
    "from sklearn.metrics import accuracy_score, precision_score, recall_score, f1_score, mean_squared_error, r2_score\n",
    "\n",
    "# scikit-learn data\n",
    "import sklearn.datasets\n",
    "\n",
    "# scikit-learn model\n",
    "## Linear models\n",
    "from sklearn.linear_model import LinearRegression, LogisticRegression \n",
    "\n",
    "## Naive Bayes models\n",
    "from sklearn.naive_bayes import GaussianNB, MultinomialNB, BernoulliNB \n",
    "\n",
    "# Cluster models\n",
    "from sklearn.cluster import KMeans\n",
    "from sklearn.mixture import GaussianMixture\n",
    "from sklearn.neighbors import KNeighborsClassifier\n",
    "\n",
    "# Tree models\n",
    "from sklearn.tree import DecisionTreeClassifier, DecisionTreeClassifier\n",
    "from sklearn.ensemble import RandomForestClassifier, RandomForestRegressor\n",
    "\n",
    "# Other models\n",
    "from sklearn.decomposition import PCA"
   ]
  },
  {
   "cell_type": "markdown",
   "metadata": {},
   "source": [
    "1. Không sử dụng thư viện bên ngoài, chỉ sử dụng các cú pháp trong python thực hiện các yêu cầu sau:\n",
    "* Chuyển vị ma trận\n",
    "* Nhân vecto với ma trận\n",
    "* Nhân 2 ma trận\n",
    "* Tính nghịch đảo của 2 ma trận\n",
    "* Tìm giá trị riêng và vecto riêng của một ma trận"
   ]
  },
  {
   "cell_type": "code",
   "execution_count": 2,
   "metadata": {
    "ExecuteTime": {
     "end_time": "2024-07-28T19:23:40.868841Z",
     "start_time": "2024-07-28T19:23:40.849766Z"
    }
   },
   "outputs": [],
   "source": [
    "def print_matrix(matrix):\n",
    "    for x in matrix:\n",
    "        print(' '.join(list(map(str, x))))"
   ]
  },
  {
   "cell_type": "code",
   "execution_count": 3,
   "metadata": {
    "ExecuteTime": {
     "end_time": "2024-07-28T19:23:40.899283Z",
     "start_time": "2024-07-28T19:23:40.873872Z"
    }
   },
   "outputs": [
    {
     "name": "stdout",
     "output_type": "stream",
     "text": [
      "Original matrix:\n",
      "1 2\n",
      "3 4\n",
      "5 6\n",
      "Transposed Matrix:\n",
      "1 3 5\n",
      "2 4 6\n"
     ]
    }
   ],
   "source": [
    "def transpose(matrix):\n",
    "    return [[matrix[j][i] for j in range(len(matrix))] for i in range(len(matrix[0]))]\n",
    "\n",
    "# Example usage:\n",
    "matrix = [[1, 2], [3, 4], [5, 6]]\n",
    "\n",
    "transposed_matrix = transpose(matrix)\n",
    "\n",
    "print(\"Original matrix:\")\n",
    "print_matrix(matrix)\n",
    "\n",
    "print(\"Transposed Matrix:\")\n",
    "print_matrix(transposed_matrix)\n"
   ]
  },
  {
   "cell_type": "code",
   "execution_count": 4,
   "metadata": {
    "ExecuteTime": {
     "end_time": "2024-07-28T19:23:40.947009Z",
     "start_time": "2024-07-28T19:23:40.922345Z"
    }
   },
   "outputs": [
    {
     "name": "stdout",
     "output_type": "stream",
     "text": [
      "Vector:\n",
      "1 2 3\n",
      "Matrix: \n",
      "4 5\n",
      "6 7\n",
      "8 9\n",
      "Result of vector-matrix multiplication:\n",
      "40 46\n"
     ]
    }
   ],
   "source": [
    "def multiply_vector_matrix(vector, matrix):\n",
    "    return [sum(vector[j] * matrix[j][i] for j in range(len(vector))) for i in range(len(matrix[0]))]\n",
    "\n",
    "# Example usage:\n",
    "vector = [1, 2, 3]\n",
    "matrix = [[4, 5], [6, 7], [8, 9]]\n",
    "\n",
    "result_vector_matrix = multiply_vector_matrix(vector, matrix)\n",
    "print('Vector:')\n",
    "print_matrix([vector])\n",
    "\n",
    "print('Matrix: ')\n",
    "print_matrix(matrix)\n",
    "\n",
    "print(\"Result of vector-matrix multiplication:\")\n",
    "print_matrix([result_vector_matrix])\n"
   ]
  },
  {
   "cell_type": "code",
   "execution_count": 5,
   "metadata": {
    "ExecuteTime": {
     "end_time": "2024-07-28T19:23:40.970556Z",
     "start_time": "2024-07-28T19:23:40.947009Z"
    }
   },
   "outputs": [
    {
     "name": "stdout",
     "output_type": "stream",
     "text": [
      "Matrix 1: \n",
      "1 2\n",
      "3 4\n",
      "5 6\n",
      "Matrix 2: \n",
      "7 8\n",
      "9 10\n",
      "Result of matrix-matrix multiplication:\n",
      "25 28\n",
      "57 64\n",
      "89 100\n"
     ]
    }
   ],
   "source": [
    "def multiply_matrices(matrix1, matrix2):\n",
    "    result = [[sum(matrix1[i][k] * matrix2[k][j] for k in range(len(matrix2))) for j in range(len(matrix2[0]))] for i in range(len(matrix1))]\n",
    "    return result\n",
    "\n",
    "# Example usage:\n",
    "matrix1 = [[1, 2], [3, 4], [5, 6]]\n",
    "matrix2 = [[7, 8], [9, 10]]\n",
    "\n",
    "print('Matrix 1: ')\n",
    "print_matrix(matrix1)\n",
    "print('Matrix 2: ')\n",
    "print_matrix(matrix2)\n",
    "\n",
    "result_matrices = multiply_matrices(matrix1, matrix2)\n",
    "\n",
    "print(\"Result of matrix-matrix multiplication:\")\n",
    "print_matrix(result_matrices)\n"
   ]
  },
  {
   "cell_type": "code",
   "execution_count": 6,
   "metadata": {
    "ExecuteTime": {
     "end_time": "2024-07-28T19:23:41.009021Z",
     "start_time": "2024-07-28T19:23:40.970556Z"
    }
   },
   "outputs": [
    {
     "name": "stdout",
     "output_type": "stream",
     "text": [
      "Original Matrix:\n",
      "4 7\n",
      "2 6\n",
      "Inverse of matrix:\n",
      "0.6 -0.7\n",
      "-0.2 0.4\n"
     ]
    }
   ],
   "source": [
    "def matrix_minor(matrix, i, j):\n",
    "    return [row[:j] + row[j+1:] for row in (matrix[:i] + matrix[i+1:])]\n",
    "\n",
    "def matrix_determinant(matrix):\n",
    "    if len(matrix) == 2:\n",
    "        return matrix[0][0]*matrix[1][1] - matrix[0][1]*matrix[1][0]\n",
    "    determinant = 0\n",
    "    for c in range(len(matrix)):\n",
    "        determinant += ((-1)**c) * matrix[0][c] * matrix_determinant(matrix_minor(matrix, 0, c))\n",
    "    return determinant\n",
    "\n",
    "def matrix_inverse(matrix):\n",
    "    determinant = matrix_determinant(matrix)\n",
    "    if len(matrix) == 2:\n",
    "        return [[matrix[1][1]/determinant, -1*matrix[0][1]/determinant],\n",
    "                [-1*matrix[1][0]/determinant, matrix[0][0]/determinant]]\n",
    "    cofactors = []\n",
    "    for r in range(len(matrix)):\n",
    "        cofactor_row = []\n",
    "        for c in range(len(matrix)):\n",
    "            minor = matrix_minor(matrix, r, c)\n",
    "            cofactor_row.append(((-1)**(r+c)) * matrix_determinant(minor))\n",
    "        cofactors.append(cofactor_row)\n",
    "    cofactors = transpose(cofactors)\n",
    "    for r in range(len(cofactors)):\n",
    "        for c in range(len(cofactors)):\n",
    "            cofactors[r][c] = cofactors[r][c]/determinant\n",
    "    return cofactors\n",
    "\n",
    "# Example usage:\n",
    "matrix = [[4, 7], [2, 6]]\n",
    "\n",
    "print('Original Matrix:')\n",
    "print_matrix(matrix)\n",
    "inverse_matrix = matrix_inverse(matrix)\n",
    "\n",
    "print(\"Inverse of matrix:\")\n",
    "print_matrix(inverse_matrix)"
   ]
  },
  {
   "cell_type": "code",
   "execution_count": 7,
   "metadata": {
    "ExecuteTime": {
     "end_time": "2024-07-28T19:23:41.159931Z",
     "start_time": "2024-07-28T19:23:41.027083Z"
    }
   },
   "outputs": [
    {
     "name": "stdout",
     "output_type": "stream",
     "text": [
      "Eigenvalues:\n",
      "[5. 2.]\n",
      "Eigenvectors:\n",
      "[[ 0.89442719 -0.70710678]\n",
      " [ 0.4472136   0.70710678]]\n"
     ]
    }
   ],
   "source": [
    "import numpy as np\n",
    "\n",
    "def eigenvalues_eigenvectors(matrix):\n",
    "    eigenvalues, eigenvectors = np.linalg.eig(matrix)\n",
    "    return eigenvalues, eigenvectors\n",
    "\n",
    "# Example usage:\n",
    "matrix = np.array([[4, 2], [1, 3]])\n",
    "\n",
    "eigenvalues, eigenvectors = eigenvalues_eigenvectors(matrix)\n",
    "\n",
    "print(\"Eigenvalues:\")\n",
    "print(eigenvalues)\n",
    "\n",
    "print(\"Eigenvectors:\")\n",
    "print(eigenvectors)"
   ]
  },
  {
   "cell_type": "markdown",
   "metadata": {},
   "source": [
    "\n",
    "2. Xử lý dữ liệu: Sử dụng bộ dữ liệu sau: [Students Performance Dataset](https://www.kaggle.com/datasets/rabieelkharoua/students-performance-dataset)\n",
    "* Nhập dữ liệu từ file csv, txt\n",
    "* Kiểm tra tính chuẩn của từng trường dữ liệu (Kiểm tra xem từng trường dữ liệu có tuân theo phân bố chuẩn hay không?)\n",
    "* Tính giá trị trung bình theo từng trường dữ liệu\n",
    "* Chia bộ dữ liệu thành 2 phần tương ứng là phần đầu tiên từ đầu bộ dữ liệu và phần thứ 2 là phần còn lại, số lượng lần lượt như sau: 7:3, 2000 và phần còn lại\n",
    "* Chia bộ dữ liệu thành 2 phần ngẫu nhiên, với số lượng như sau: 7:3, 2000 và phần còn lại"
   ]
  },
  {
   "cell_type": "code",
   "execution_count": 8,
   "metadata": {
    "ExecuteTime": {
     "end_time": "2024-07-28T19:23:41.394781Z",
     "start_time": "2024-07-28T19:23:41.177994Z"
    }
   },
   "outputs": [
    {
     "data": {
      "text/plain": "      StudentID  Age  Gender  Ethnicity  ParentalEducation  StudyTimeWeekly  \\\n0          1001   17       1          0                  2        19.833723   \n1          1002   18       0          0                  1        15.408756   \n2          1003   15       0          2                  3         4.210570   \n3          1004   17       1          0                  3        10.028829   \n4          1005   17       1          0                  2         4.672495   \n...         ...  ...     ...        ...                ...              ...   \n2387       3388   18       1          0                  3        10.680555   \n2388       3389   17       0          0                  1         7.583217   \n2389       3390   16       1          0                  2         6.805500   \n2390       3391   16       1          1                  0        12.416653   \n2391       3392   16       1          0                  2        17.819907   \n\n      Absences  Tutoring  ParentalSupport  Extracurricular  Sports  Music  \\\n0            7         1                2                0       0      1   \n1            0         0                1                0       0      0   \n2           26         0                2                0       0      0   \n3           14         0                3                1       0      0   \n4           17         1                3                0       0      0   \n...        ...       ...              ...              ...     ...    ...   \n2387         2         0                4                1       0      0   \n2388         4         1                4                0       1      0   \n2389        20         0                2                0       0      0   \n2390        17         0                2                0       1      1   \n2391        13         0                2                0       0      0   \n\n      Volunteering       GPA  GradeClass  \n0                0  2.929196         2.0  \n1                0  3.042915         1.0  \n2                0  0.112602         4.0  \n3                0  2.054218         3.0  \n4                0  1.288061         4.0  \n...            ...       ...         ...  \n2387             0  3.455509         0.0  \n2388             0  3.279150         4.0  \n2389             1  1.142333         2.0  \n2390             0  1.803297         1.0  \n2391             1  2.140014         1.0  \n\n[2392 rows x 15 columns]",
      "text/html": "<div>\n<style scoped>\n    .dataframe tbody tr th:only-of-type {\n        vertical-align: middle;\n    }\n\n    .dataframe tbody tr th {\n        vertical-align: top;\n    }\n\n    .dataframe thead th {\n        text-align: right;\n    }\n</style>\n<table border=\"1\" class=\"dataframe\">\n  <thead>\n    <tr style=\"text-align: right;\">\n      <th></th>\n      <th>StudentID</th>\n      <th>Age</th>\n      <th>Gender</th>\n      <th>Ethnicity</th>\n      <th>ParentalEducation</th>\n      <th>StudyTimeWeekly</th>\n      <th>Absences</th>\n      <th>Tutoring</th>\n      <th>ParentalSupport</th>\n      <th>Extracurricular</th>\n      <th>Sports</th>\n      <th>Music</th>\n      <th>Volunteering</th>\n      <th>GPA</th>\n      <th>GradeClass</th>\n    </tr>\n  </thead>\n  <tbody>\n    <tr>\n      <th>0</th>\n      <td>1001</td>\n      <td>17</td>\n      <td>1</td>\n      <td>0</td>\n      <td>2</td>\n      <td>19.833723</td>\n      <td>7</td>\n      <td>1</td>\n      <td>2</td>\n      <td>0</td>\n      <td>0</td>\n      <td>1</td>\n      <td>0</td>\n      <td>2.929196</td>\n      <td>2.0</td>\n    </tr>\n    <tr>\n      <th>1</th>\n      <td>1002</td>\n      <td>18</td>\n      <td>0</td>\n      <td>0</td>\n      <td>1</td>\n      <td>15.408756</td>\n      <td>0</td>\n      <td>0</td>\n      <td>1</td>\n      <td>0</td>\n      <td>0</td>\n      <td>0</td>\n      <td>0</td>\n      <td>3.042915</td>\n      <td>1.0</td>\n    </tr>\n    <tr>\n      <th>2</th>\n      <td>1003</td>\n      <td>15</td>\n      <td>0</td>\n      <td>2</td>\n      <td>3</td>\n      <td>4.210570</td>\n      <td>26</td>\n      <td>0</td>\n      <td>2</td>\n      <td>0</td>\n      <td>0</td>\n      <td>0</td>\n      <td>0</td>\n      <td>0.112602</td>\n      <td>4.0</td>\n    </tr>\n    <tr>\n      <th>3</th>\n      <td>1004</td>\n      <td>17</td>\n      <td>1</td>\n      <td>0</td>\n      <td>3</td>\n      <td>10.028829</td>\n      <td>14</td>\n      <td>0</td>\n      <td>3</td>\n      <td>1</td>\n      <td>0</td>\n      <td>0</td>\n      <td>0</td>\n      <td>2.054218</td>\n      <td>3.0</td>\n    </tr>\n    <tr>\n      <th>4</th>\n      <td>1005</td>\n      <td>17</td>\n      <td>1</td>\n      <td>0</td>\n      <td>2</td>\n      <td>4.672495</td>\n      <td>17</td>\n      <td>1</td>\n      <td>3</td>\n      <td>0</td>\n      <td>0</td>\n      <td>0</td>\n      <td>0</td>\n      <td>1.288061</td>\n      <td>4.0</td>\n    </tr>\n    <tr>\n      <th>...</th>\n      <td>...</td>\n      <td>...</td>\n      <td>...</td>\n      <td>...</td>\n      <td>...</td>\n      <td>...</td>\n      <td>...</td>\n      <td>...</td>\n      <td>...</td>\n      <td>...</td>\n      <td>...</td>\n      <td>...</td>\n      <td>...</td>\n      <td>...</td>\n      <td>...</td>\n    </tr>\n    <tr>\n      <th>2387</th>\n      <td>3388</td>\n      <td>18</td>\n      <td>1</td>\n      <td>0</td>\n      <td>3</td>\n      <td>10.680555</td>\n      <td>2</td>\n      <td>0</td>\n      <td>4</td>\n      <td>1</td>\n      <td>0</td>\n      <td>0</td>\n      <td>0</td>\n      <td>3.455509</td>\n      <td>0.0</td>\n    </tr>\n    <tr>\n      <th>2388</th>\n      <td>3389</td>\n      <td>17</td>\n      <td>0</td>\n      <td>0</td>\n      <td>1</td>\n      <td>7.583217</td>\n      <td>4</td>\n      <td>1</td>\n      <td>4</td>\n      <td>0</td>\n      <td>1</td>\n      <td>0</td>\n      <td>0</td>\n      <td>3.279150</td>\n      <td>4.0</td>\n    </tr>\n    <tr>\n      <th>2389</th>\n      <td>3390</td>\n      <td>16</td>\n      <td>1</td>\n      <td>0</td>\n      <td>2</td>\n      <td>6.805500</td>\n      <td>20</td>\n      <td>0</td>\n      <td>2</td>\n      <td>0</td>\n      <td>0</td>\n      <td>0</td>\n      <td>1</td>\n      <td>1.142333</td>\n      <td>2.0</td>\n    </tr>\n    <tr>\n      <th>2390</th>\n      <td>3391</td>\n      <td>16</td>\n      <td>1</td>\n      <td>1</td>\n      <td>0</td>\n      <td>12.416653</td>\n      <td>17</td>\n      <td>0</td>\n      <td>2</td>\n      <td>0</td>\n      <td>1</td>\n      <td>1</td>\n      <td>0</td>\n      <td>1.803297</td>\n      <td>1.0</td>\n    </tr>\n    <tr>\n      <th>2391</th>\n      <td>3392</td>\n      <td>16</td>\n      <td>1</td>\n      <td>0</td>\n      <td>2</td>\n      <td>17.819907</td>\n      <td>13</td>\n      <td>0</td>\n      <td>2</td>\n      <td>0</td>\n      <td>0</td>\n      <td>0</td>\n      <td>1</td>\n      <td>2.140014</td>\n      <td>1.0</td>\n    </tr>\n  </tbody>\n</table>\n<p>2392 rows × 15 columns</p>\n</div>"
     },
     "execution_count": 8,
     "metadata": {},
     "output_type": "execute_result"
    }
   ],
   "source": [
    "from scipy.stats import shapiro\n",
    "\n",
    "data = pd.read_csv('data/Student_performance_data_.csv')\n",
    "data"
   ]
  },
  {
   "cell_type": "code",
   "execution_count": 9,
   "metadata": {
    "ExecuteTime": {
     "end_time": "2024-07-28T19:23:41.445772Z",
     "start_time": "2024-07-28T19:23:41.404079Z"
    }
   },
   "outputs": [
    {
     "data": {
      "text/plain": "{'StudentID': False,\n 'Age': False,\n 'Gender': False,\n 'Ethnicity': False,\n 'ParentalEducation': False,\n 'StudyTimeWeekly': False,\n 'Absences': False,\n 'Tutoring': False,\n 'ParentalSupport': False,\n 'Extracurricular': False,\n 'Sports': False,\n 'Music': False,\n 'Volunteering': False,\n 'GPA': False,\n 'GradeClass': False}"
     },
     "execution_count": 9,
     "metadata": {},
     "output_type": "execute_result"
    }
   ],
   "source": [
    "def check_normality(data):\n",
    "    normality_results = {}\n",
    "    for column in data.select_dtypes(include=[np.number]).columns:\n",
    "        p = shapiro(data[column])[1]\n",
    "        normality_results[column] = p > 0.05\n",
    "    return normality_results\n",
    "\n",
    "check_normality(data)"
   ]
  },
  {
   "cell_type": "code",
   "execution_count": 10,
   "metadata": {
    "ExecuteTime": {
     "end_time": "2024-07-28T19:23:41.479999Z",
     "start_time": "2024-07-28T19:23:41.453888Z"
    }
   },
   "outputs": [
    {
     "data": {
      "text/plain": "StudentID            2196.500000\nAge                    16.468645\nGender                  0.510870\nEthnicity               0.877508\nParentalEducation       1.746237\nStudyTimeWeekly         9.771992\nAbsences               14.541388\nTutoring                0.301421\nParentalSupport         2.122074\nExtracurricular         0.383361\nSports                  0.303512\nMusic                   0.196906\nVolunteering            0.157191\nGPA                     1.906186\nGradeClass              2.983696\ndtype: float64"
     },
     "execution_count": 10,
     "metadata": {},
     "output_type": "execute_result"
    }
   ],
   "source": [
    "data.mean()"
   ]
  },
  {
   "cell_type": "code",
   "execution_count": 11,
   "metadata": {
    "ExecuteTime": {
     "end_time": "2024-07-28T19:23:41.506757Z",
     "start_time": "2024-07-28T19:23:41.486627Z"
    }
   },
   "outputs": [
    {
     "data": {
      "text/plain": "((1674, 15), (718, 15))"
     },
     "execution_count": 11,
     "metadata": {},
     "output_type": "execute_result"
    }
   ],
   "source": [
    "n = data.shape[0]\n",
    "x = data[:int(0.7 * n)]\n",
    "y = data[int(0.7 * n):]\n",
    "x.shape, y.shape"
   ]
  },
  {
   "cell_type": "code",
   "execution_count": 12,
   "metadata": {
    "ExecuteTime": {
     "end_time": "2024-07-28T19:23:41.557580Z",
     "start_time": "2024-07-28T19:23:41.511653Z"
    }
   },
   "outputs": [
    {
     "data": {
      "text/plain": "((2000, 15), (392, 15))"
     },
     "execution_count": 12,
     "metadata": {},
     "output_type": "execute_result"
    }
   ],
   "source": [
    "n = data.shape[0]\n",
    "x = data[:2000]\n",
    "y = data[2000:]\n",
    "x.shape, y.shape"
   ]
  },
  {
   "cell_type": "code",
   "execution_count": 13,
   "metadata": {
    "ExecuteTime": {
     "end_time": "2024-07-28T19:23:41.582988Z",
     "start_time": "2024-07-28T19:23:41.559108Z"
    }
   },
   "outputs": [
    {
     "data": {
      "text/plain": "((2000, 15), (392, 15))"
     },
     "execution_count": 13,
     "metadata": {},
     "output_type": "execute_result"
    }
   ],
   "source": [
    "data1 = data.sample(2000)\n",
    "remaining_data1 = data.drop(data1.index)\n",
    "data1.shape, remaining_data1.shape"
   ]
  },
  {
   "cell_type": "code",
   "execution_count": 14,
   "metadata": {
    "ExecuteTime": {
     "end_time": "2024-07-28T19:23:41.621753Z",
     "start_time": "2024-07-28T19:23:41.584521Z"
    }
   },
   "outputs": [
    {
     "data": {
      "text/plain": "((1674, 15), (718, 15))"
     },
     "execution_count": 14,
     "metadata": {},
     "output_type": "execute_result"
    }
   ],
   "source": [
    "data2 = data.sample(frac=0.7)\n",
    "remaining_data2 = data.drop(data2.index)\n",
    "data2.shape, remaining_data2.shape"
   ]
  }
 ],
 "metadata": {
  "kernelspec": {
   "display_name": "Python 3",
   "language": "python",
   "name": "python3"
  },
  "language_info": {
   "codemirror_mode": {
    "name": "ipython",
    "version": 3
   },
   "file_extension": ".py",
   "mimetype": "text/x-python",
   "name": "python",
   "nbconvert_exporter": "python",
   "pygments_lexer": "ipython3",
   "version": "3.11.0"
  }
 },
 "nbformat": 4,
 "nbformat_minor": 2
}
